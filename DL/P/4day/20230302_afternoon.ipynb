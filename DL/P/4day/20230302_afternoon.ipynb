{
 "cells": [
  {
   "cell_type": "code",
   "execution_count": null,
   "metadata": {
    "id": "TfLZ8EXaR3PM"
   },
   "outputs": [],
   "source": [
    "from sklearn.datasets import fetch_california_housing"
   ]
  },
  {
   "cell_type": "code",
   "execution_count": null,
   "metadata": {
    "colab": {
     "base_uri": "https://localhost:8080/"
    },
    "collapsed": true,
    "executionInfo": {
     "elapsed": 4641,
     "status": "ok",
     "timestamp": 1678027779982,
     "user": {
      "displayName": "O H",
      "userId": "10805877738638885762"
     },
     "user_tz": -540
    },
    "id": "wGFa75ZSSF0I",
    "jupyter": {
     "outputs_hidden": true
    },
    "outputId": "f766e8fc-2c5c-4796-cb84-41de0124c123",
    "tags": []
   },
   "outputs": [
    {
     "name": "stdout",
     "output_type": "stream",
     "text": [
      ".. _california_housing_dataset:\n",
      "\n",
      "California Housing dataset\n",
      "--------------------------\n",
      "\n",
      "**Data Set Characteristics:**\n",
      "\n",
      "    :Number of Instances: 20640\n",
      "\n",
      "    :Number of Attributes: 8 numeric, predictive attributes and the target\n",
      "\n",
      "    :Attribute Information:\n",
      "        - MedInc        median income in block group\n",
      "        - HouseAge      median house age in block group\n",
      "        - AveRooms      average number of rooms per household\n",
      "        - AveBedrms     average number of bedrooms per household\n",
      "        - Population    block group population\n",
      "        - AveOccup      average number of household members\n",
      "        - Latitude      block group latitude\n",
      "        - Longitude     block group longitude\n",
      "\n",
      "    :Missing Attribute Values: None\n",
      "\n",
      "This dataset was obtained from the StatLib repository.\n",
      "https://www.dcc.fc.up.pt/~ltorgo/Regression/cal_housing.html\n",
      "\n",
      "The target variable is the median house value for California districts,\n",
      "expressed in hundreds of thousands of dollars ($100,000).\n",
      "\n",
      "This dataset was derived from the 1990 U.S. census, using one row per census\n",
      "block group. A block group is the smallest geographical unit for which the U.S.\n",
      "Census Bureau publishes sample data (a block group typically has a population\n",
      "of 600 to 3,000 people).\n",
      "\n",
      "An household is a group of people residing within a home. Since the average\n",
      "number of rooms and bedrooms in this dataset are provided per household, these\n",
      "columns may take surpinsingly large values for block groups with few households\n",
      "and many empty houses, such as vacation resorts.\n",
      "\n",
      "It can be downloaded/loaded using the\n",
      ":func:`sklearn.datasets.fetch_california_housing` function.\n",
      "\n",
      ".. topic:: References\n",
      "\n",
      "    - Pace, R. Kelley and Ronald Barry, Sparse Spatial Autoregressions,\n",
      "      Statistics and Probability Letters, 33 (1997) 291-297\n",
      "\n"
     ]
    }
   ],
   "source": [
    "california = fetch_california_housing()\n",
    "print(california.DESCR)"
   ]
  },
  {
   "cell_type": "code",
   "execution_count": null,
   "metadata": {
    "id": "znbIQYARSIiR"
   },
   "outputs": [],
   "source": [
    "x = california.data\n",
    "y = california.target #회귀"
   ]
  },
  {
   "cell_type": "markdown",
   "metadata": {
    "id": "BLwhXmsLSLnz"
   },
   "source": [
    "* 조건 : Functional API\n",
    "    1. training set / validation set / test set 분리!\n",
    "    2. hidden layer 최소 3개 사용! (노드 수 자율)\n",
    "    3. early stopping 적용!(patience 7)\n",
    "    4. validation_data 옵션에 validation set 적용!"
   ]
  },
  {
   "cell_type": "code",
   "execution_count": null,
   "metadata": {
    "colab": {
     "base_uri": "https://localhost:8080/"
    },
    "executionInfo": {
     "elapsed": 3,
     "status": "ok",
     "timestamp": 1678027781629,
     "user": {
      "displayName": "O H",
      "userId": "10805877738638885762"
     },
     "user_tz": -540
    },
    "id": "ejVeI5soSir_",
    "outputId": "00d02b78-3c7f-4aa0-a06c-a3b7f0f68f43"
   },
   "outputs": [
    {
     "data": {
      "text/plain": [
       "((20640, 8), (20640,))"
      ]
     },
     "execution_count": 4,
     "metadata": {},
     "output_type": "execute_result"
    }
   ],
   "source": [
    "x.shape, y.shape"
   ]
  },
  {
   "cell_type": "code",
   "execution_count": null,
   "metadata": {
    "id": "g5lvzvBwTskQ"
   },
   "outputs": [],
   "source": [
    "from sklearn.model_selection import train_test_split\n",
    "train_x, test_x, train_y, test_y = train_test_split(x, y, test_size = 0.2, random_state = 2023)\n",
    "\n",
    "#validation set은 training set에서 다시 파생된다.\n",
    "train_x, val_x, train_y, val_y = train_test_split(train_x, train_y, test_size = 0.2, random_state = 2023)"
   ]
  },
  {
   "cell_type": "code",
   "execution_count": null,
   "metadata": {
    "colab": {
     "base_uri": "https://localhost:8080/"
    },
    "executionInfo": {
     "elapsed": 2,
     "status": "ok",
     "timestamp": 1678027783719,
     "user": {
      "displayName": "O H",
      "userId": "10805877738638885762"
     },
     "user_tz": -540
    },
    "id": "M3w-ENi7I89o",
    "outputId": "4f453b76-a6ce-4bd0-cb1a-386c9493a054"
   },
   "outputs": [
    {
     "data": {
      "text/plain": [
       "((13209, 8), (13209,), (3303, 8), (3303,), (4128, 8), (4128,))"
      ]
     },
     "execution_count": 6,
     "metadata": {},
     "output_type": "execute_result"
    }
   ],
   "source": [
    "train_x.shape, train_y.shape, val_x.shape, val_y.shape, test_x.shape, test_y.shape"
   ]
  },
  {
   "cell_type": "code",
   "execution_count": null,
   "metadata": {
    "colab": {
     "base_uri": "https://localhost:8080/"
    },
    "executionInfo": {
     "elapsed": 6584,
     "status": "ok",
     "timestamp": 1678027791513,
     "user": {
      "displayName": "O H",
      "userId": "10805877738638885762"
     },
     "user_tz": -540
    },
    "id": "Bs7zPPf5JHfp",
    "outputId": "98d5a4cf-48a5-4e1b-b76b-9dd93b4b35ad"
   },
   "outputs": [
    {
     "name": "stdout",
     "output_type": "stream",
     "text": [
      "Model: \"model\"\n",
      "_________________________________________________________________\n",
      " Layer (type)                Output Shape              Param #   \n",
      "=================================================================\n",
      " input_1 (InputLayer)        [(None, 8)]               0         \n",
      "                                                                 \n",
      " dense (Dense)               (None, 512)               4608      \n",
      "                                                                 \n",
      " dense_1 (Dense)             (None, 256)               131328    \n",
      "                                                                 \n",
      " dense_2 (Dense)             (None, 128)               32896     \n",
      "                                                                 \n",
      " dense_3 (Dense)             (None, 1)                 129       \n",
      "                                                                 \n",
      "=================================================================\n",
      "Total params: 168,961\n",
      "Trainable params: 168,961\n",
      "Non-trainable params: 0\n",
      "_________________________________________________________________\n"
     ]
    }
   ],
   "source": [
    "import tensorflow as tf\n",
    "from tensorflow import keras\n",
    "## 모델링 : Functional API\n",
    "#1. 세션 클리어\n",
    "keras.backend.clear_session()\n",
    "\n",
    "#2. 레이어 사슬처럼 엮기\n",
    "il = keras.layers.Input(shape = (8, ))\n",
    "hl = keras.layers.Dense(512, activation = \"relu\")(il)\n",
    "hl = keras.layers.Dense(256, activation = \"relu\")(hl)\n",
    "hl = keras.layers.Dense(128, activation = \"relu\")(hl)\n",
    "ol = keras.layers.Dense(1)(hl)\n",
    "\n",
    "#3. 모델의 시작/끝 지정\n",
    "model = keras.models.Model(il, ol)\n",
    "\n",
    "#4. 컴파일\n",
    "model.compile(loss = \"mse\", optimizer = \"adam\")\n",
    "\n",
    "#5. 요약\n",
    "model.summary()"
   ]
  },
  {
   "cell_type": "code",
   "execution_count": null,
   "metadata": {
    "id": "wW1ksmM7KhjK"
   },
   "outputs": [],
   "source": [
    "#Early Stopping\n",
    "from tensorflow.keras.callbacks import EarlyStopping\n",
    "es = EarlyStopping(monitor = \"val_loss\", #관측 대상\n",
    "                    min_delta = 0,       #관측 대상의 임계값 설정\n",
    "                    patience = 5,        #몇번 참을레\n",
    "                    verbose = 1,\n",
    "                    restore_best_weights = True) #최적 epoch 시점의 가중치로 설정할래?"
   ]
  },
  {
   "cell_type": "code",
   "execution_count": null,
   "metadata": {
    "id": "fWZOwQrCJpK0"
   },
   "outputs": [],
   "source": [
    "#val_loss, val_accuracy는 validation set의 loss, accuracy에 적용"
   ]
  },
  {
   "cell_type": "code",
   "execution_count": null,
   "metadata": {
    "colab": {
     "base_uri": "https://localhost:8080/"
    },
    "executionInfo": {
     "elapsed": 41006,
     "status": "ok",
     "timestamp": 1678027832506,
     "user": {
      "displayName": "O H",
      "userId": "10805877738638885762"
     },
     "user_tz": -540
    },
    "id": "t3Y1d23DLBdi",
    "outputId": "8541fe5a-91cf-4359-b55b-0017ffa81eae"
   },
   "outputs": [
    {
     "name": "stdout",
     "output_type": "stream",
     "text": [
      "Epoch 1/1000\n",
      "413/413 [==============================] - 7s 4ms/step - loss: 129.6696 - val_loss: 2.0803\n",
      "Epoch 2/1000\n",
      "413/413 [==============================] - 1s 3ms/step - loss: 3.1545 - val_loss: 2.4165\n",
      "Epoch 3/1000\n",
      "413/413 [==============================] - 1s 3ms/step - loss: 53.7417 - val_loss: 1.9846\n",
      "Epoch 4/1000\n",
      "413/413 [==============================] - 2s 4ms/step - loss: 1.4078 - val_loss: 1.1917\n",
      "Epoch 5/1000\n",
      "413/413 [==============================] - 1s 3ms/step - loss: 1.4417 - val_loss: 2.0911\n",
      "Epoch 6/1000\n",
      "413/413 [==============================] - 2s 4ms/step - loss: 1.4600 - val_loss: 1.2647\n",
      "Epoch 7/1000\n",
      "413/413 [==============================] - 2s 4ms/step - loss: 1.0555 - val_loss: 0.6932\n",
      "Epoch 8/1000\n",
      "413/413 [==============================] - 1s 3ms/step - loss: 1.6486 - val_loss: 0.6820\n",
      "Epoch 9/1000\n",
      "413/413 [==============================] - 2s 4ms/step - loss: 0.7642 - val_loss: 0.7318\n",
      "Epoch 10/1000\n",
      "413/413 [==============================] - 1s 3ms/step - loss: 0.7417 - val_loss: 0.7308\n",
      "Epoch 11/1000\n",
      "413/413 [==============================] - 1s 3ms/step - loss: 1.2001 - val_loss: 0.9495\n",
      "Epoch 12/1000\n",
      "413/413 [==============================] - 2s 4ms/step - loss: 0.9499 - val_loss: 0.8929\n",
      "Epoch 13/1000\n",
      "413/413 [==============================] - 2s 4ms/step - loss: 0.8256 - val_loss: 0.6051\n",
      "Epoch 14/1000\n",
      "413/413 [==============================] - 2s 4ms/step - loss: 0.8789 - val_loss: 0.6256\n",
      "Epoch 15/1000\n",
      "413/413 [==============================] - 1s 3ms/step - loss: 1.0094 - val_loss: 0.6825\n",
      "Epoch 16/1000\n",
      "413/413 [==============================] - 1s 3ms/step - loss: 0.7122 - val_loss: 0.8319\n",
      "Epoch 17/1000\n",
      "413/413 [==============================] - 1s 3ms/step - loss: 0.7267 - val_loss: 0.6538\n",
      "Epoch 18/1000\n",
      "413/413 [==============================] - 1s 3ms/step - loss: 0.7952 - val_loss: 0.5666\n",
      "Epoch 19/1000\n",
      "413/413 [==============================] - 2s 4ms/step - loss: 0.6114 - val_loss: 0.6074\n",
      "Epoch 20/1000\n",
      "413/413 [==============================] - 1s 4ms/step - loss: 0.8040 - val_loss: 0.6748\n",
      "Epoch 21/1000\n",
      "413/413 [==============================] - 2s 5ms/step - loss: 0.6191 - val_loss: 0.6006\n",
      "Epoch 22/1000\n",
      "413/413 [==============================] - 1s 4ms/step - loss: 0.6505 - val_loss: 0.6839\n",
      "Epoch 23/1000\n",
      "409/413 [============================>.] - ETA: 0s - loss: 0.6318Restoring model weights from the end of the best epoch: 18.\n",
      "413/413 [==============================] - 1s 4ms/step - loss: 0.6331 - val_loss: 0.7213\n",
      "Epoch 23: early stopping\n"
     ]
    },
    {
     "data": {
      "text/plain": [
       "<keras.callbacks.History at 0x7f0908ca9370>"
      ]
     },
     "execution_count": 9,
     "metadata": {},
     "output_type": "execute_result"
    }
   ],
   "source": [
    "#학습\n",
    "model.fit(train_x, train_y, epochs = 1000, verbose = 1, callbacks = [es], validation_data = (val_x, val_y))\n",
    "#validation set으로 나누고 스케일링 했으면 validation_split가 아닌 validation_data = ()!!!!!"
   ]
  },
  {
   "cell_type": "code",
   "execution_count": null,
   "metadata": {
    "colab": {
     "base_uri": "https://localhost:8080/"
    },
    "executionInfo": {
     "elapsed": 680,
     "status": "ok",
     "timestamp": 1678027877687,
     "user": {
      "displayName": "O H",
      "userId": "10805877738638885762"
     },
     "user_tz": -540
    },
    "id": "jxMeQdUiLjPD",
    "outputId": "437f5148-fe46-42b9-95d5-aa9efe12248b"
   },
   "outputs": [
    {
     "name": "stdout",
     "output_type": "stream",
     "text": [
      "129/129 [==============================] - 0s 2ms/step\n"
     ]
    }
   ],
   "source": [
    "y_pred = model.predict(test_x)"
   ]
  },
  {
   "cell_type": "code",
   "execution_count": null,
   "metadata": {
    "colab": {
     "base_uri": "https://localhost:8080/"
    },
    "executionInfo": {
     "elapsed": 537,
     "status": "ok",
     "timestamp": 1678027884825,
     "user": {
      "displayName": "O H",
      "userId": "10805877738638885762"
     },
     "user_tz": -540
    },
    "id": "WJfwaq3mLyKl",
    "outputId": "bb7862ba-b2b7-42b6-a968-0fe82eb007c8"
   },
   "outputs": [
    {
     "data": {
      "text/plain": [
       "array([1.7940274 , 2.554658  , 1.7956134 , 1.0007962 , 2.1119385 ,\n",
       "       2.2766237 , 1.9256945 , 2.33584   , 1.4687502 , 2.3990738 ,\n",
       "       1.5478429 , 1.688168  , 3.8962944 , 0.9031272 , 1.6952629 ,\n",
       "       2.3728673 , 1.8524054 , 1.1170719 , 1.4836578 , 1.3336068 ,\n",
       "       1.5303322 , 2.771842  , 1.7354188 , 4.6625934 , 2.6525981 ,\n",
       "       2.2797272 , 2.9166858 , 2.1794548 , 1.8973312 , 1.9040442 ,\n",
       "       1.1032089 , 3.153931  , 2.416744  , 2.0227075 , 2.1431808 ,\n",
       "       2.3155396 , 1.6199954 , 2.6577682 , 2.1236684 , 2.45876   ,\n",
       "       3.2462153 , 4.053288  , 0.93441707, 1.34983   , 1.1343594 ,\n",
       "       2.8023098 , 2.554784  , 1.1651134 , 1.2648423 , 2.044886  ],\n",
       "      dtype=float32)"
      ]
     },
     "execution_count": 12,
     "metadata": {},
     "output_type": "execute_result"
    }
   ],
   "source": [
    "y_pred[:50].reshape(-1)"
   ]
  },
  {
   "cell_type": "code",
   "execution_count": null,
   "metadata": {
    "colab": {
     "base_uri": "https://localhost:8080/"
    },
    "executionInfo": {
     "elapsed": 3,
     "status": "ok",
     "timestamp": 1678027887221,
     "user": {
      "displayName": "O H",
      "userId": "10805877738638885762"
     },
     "user_tz": -540
    },
    "id": "K2S5nU-ML1pK",
    "outputId": "5ae5d82d-5adf-49e7-bf4f-9e9ac9f662e7"
   },
   "outputs": [
    {
     "data": {
      "text/plain": [
       "array([3.656, 2.01 , 2.132, 0.986, 1.53 , 1.326, 2.125, 3.068, 1.573,\n",
       "       1.766])"
      ]
     },
     "execution_count": 13,
     "metadata": {},
     "output_type": "execute_result"
    }
   ],
   "source": [
    "test_y[:10]"
   ]
  }
 ],
 "metadata": {
  "accelerator": "GPU",
  "colab": {
   "authorship_tag": "ABX9TyOmCG6IZXFwJp3hbpUKs5s1",
   "provenance": []
  },
  "gpuClass": "standard",
  "kernelspec": {
   "display_name": "Python 3 (ipykernel)",
   "language": "python",
   "name": "python3"
  },
  "language_info": {
   "codemirror_mode": {
    "name": "ipython",
    "version": 3
   },
   "file_extension": ".py",
   "mimetype": "text/x-python",
   "name": "python",
   "nbconvert_exporter": "python",
   "pygments_lexer": "ipython3",
   "version": "3.9.13"
  }
 },
 "nbformat": 4,
 "nbformat_minor": 4
}
