{
 "cells": [
  {
   "cell_type": "code",
   "execution_count": null,
   "metadata": {
    "id": "aOASUqqhMc1o"
   },
   "outputs": [],
   "source": [
    "from sklearn.datasets import load_wine"
   ]
  },
  {
   "cell_type": "code",
   "execution_count": null,
   "metadata": {
    "id": "OvFUnyoLMsZ4"
   },
   "outputs": [],
   "source": [
    "wine = load_wine()"
   ]
  },
  {
   "cell_type": "code",
   "execution_count": null,
   "metadata": {
    "id": "U0kFAg85MtmR"
   },
   "outputs": [],
   "source": [
    "x = wine.data\n",
    "y = wine.target #멀티클래스"
   ]
  },
  {
   "cell_type": "code",
   "execution_count": null,
   "metadata": {
    "colab": {
     "base_uri": "https://localhost:8080/"
    },
    "executionInfo": {
     "elapsed": 4,
     "status": "ok",
     "timestamp": 1678028008565,
     "user": {
      "displayName": "O H",
      "userId": "10805877738638885762"
     },
     "user_tz": -540
    },
    "id": "__VXuW5-MvbN",
    "outputId": "53a30a34-7fe2-4da7-bcc0-32177163c9bf"
   },
   "outputs": [
    {
     "data": {
      "text/plain": [
       "((178, 13), (178,))"
      ]
     },
     "execution_count": 4,
     "metadata": {},
     "output_type": "execute_result"
    }
   ],
   "source": [
    "x.shape, y.shape"
   ]
  },
  {
   "cell_type": "code",
   "execution_count": null,
   "metadata": {
    "colab": {
     "base_uri": "https://localhost:8080/"
    },
    "collapsed": true,
    "executionInfo": {
     "elapsed": 5,
     "status": "ok",
     "timestamp": 1678028009334,
     "user": {
      "displayName": "O H",
      "userId": "10805877738638885762"
     },
     "user_tz": -540
    },
    "id": "fMf-R0QPMxJ-",
    "jupyter": {
     "outputs_hidden": true
    },
    "outputId": "d6d9196a-dc8f-4ee7-81c9-67935c1c8464",
    "tags": []
   },
   "outputs": [
    {
     "name": "stdout",
     "output_type": "stream",
     "text": [
      ".. _wine_dataset:\n",
      "\n",
      "Wine recognition dataset\n",
      "------------------------\n",
      "\n",
      "**Data Set Characteristics:**\n",
      "\n",
      "    :Number of Instances: 178\n",
      "    :Number of Attributes: 13 numeric, predictive attributes and the class\n",
      "    :Attribute Information:\n",
      " \t\t- Alcohol\n",
      " \t\t- Malic acid\n",
      " \t\t- Ash\n",
      "\t\t- Alcalinity of ash  \n",
      " \t\t- Magnesium\n",
      "\t\t- Total phenols\n",
      " \t\t- Flavanoids\n",
      " \t\t- Nonflavanoid phenols\n",
      " \t\t- Proanthocyanins\n",
      "\t\t- Color intensity\n",
      " \t\t- Hue\n",
      " \t\t- OD280/OD315 of diluted wines\n",
      " \t\t- Proline\n",
      "\n",
      "    - class:\n",
      "            - class_0\n",
      "            - class_1\n",
      "            - class_2\n",
      "\t\t\n",
      "    :Summary Statistics:\n",
      "    \n",
      "    ============================= ==== ===== ======= =====\n",
      "                                   Min   Max   Mean     SD\n",
      "    ============================= ==== ===== ======= =====\n",
      "    Alcohol:                      11.0  14.8    13.0   0.8\n",
      "    Malic Acid:                   0.74  5.80    2.34  1.12\n",
      "    Ash:                          1.36  3.23    2.36  0.27\n",
      "    Alcalinity of Ash:            10.6  30.0    19.5   3.3\n",
      "    Magnesium:                    70.0 162.0    99.7  14.3\n",
      "    Total Phenols:                0.98  3.88    2.29  0.63\n",
      "    Flavanoids:                   0.34  5.08    2.03  1.00\n",
      "    Nonflavanoid Phenols:         0.13  0.66    0.36  0.12\n",
      "    Proanthocyanins:              0.41  3.58    1.59  0.57\n",
      "    Colour Intensity:              1.3  13.0     5.1   2.3\n",
      "    Hue:                          0.48  1.71    0.96  0.23\n",
      "    OD280/OD315 of diluted wines: 1.27  4.00    2.61  0.71\n",
      "    Proline:                       278  1680     746   315\n",
      "    ============================= ==== ===== ======= =====\n",
      "\n",
      "    :Missing Attribute Values: None\n",
      "    :Class Distribution: class_0 (59), class_1 (71), class_2 (48)\n",
      "    :Creator: R.A. Fisher\n",
      "    :Donor: Michael Marshall (MARSHALL%PLU@io.arc.nasa.gov)\n",
      "    :Date: July, 1988\n",
      "\n",
      "This is a copy of UCI ML Wine recognition datasets.\n",
      "https://archive.ics.uci.edu/ml/machine-learning-databases/wine/wine.data\n",
      "\n",
      "The data is the results of a chemical analysis of wines grown in the same\n",
      "region in Italy by three different cultivators. There are thirteen different\n",
      "measurements taken for different constituents found in the three types of\n",
      "wine.\n",
      "\n",
      "Original Owners: \n",
      "\n",
      "Forina, M. et al, PARVUS - \n",
      "An Extendible Package for Data Exploration, Classification and Correlation. \n",
      "Institute of Pharmaceutical and Food Analysis and Technologies,\n",
      "Via Brigata Salerno, 16147 Genoa, Italy.\n",
      "\n",
      "Citation:\n",
      "\n",
      "Lichman, M. (2013). UCI Machine Learning Repository\n",
      "[https://archive.ics.uci.edu/ml]. Irvine, CA: University of California,\n",
      "School of Information and Computer Science. \n",
      "\n",
      ".. topic:: References\n",
      "\n",
      "  (1) S. Aeberhard, D. Coomans and O. de Vel, \n",
      "  Comparison of Classifiers in High Dimensional Settings, \n",
      "  Tech. Rep. no. 92-02, (1992), Dept. of Computer Science and Dept. of  \n",
      "  Mathematics and Statistics, James Cook University of North Queensland. \n",
      "  (Also submitted to Technometrics). \n",
      "\n",
      "  The data was used with many others for comparing various \n",
      "  classifiers. The classes are separable, though only RDA \n",
      "  has achieved 100% correct classification. \n",
      "  (RDA : 100%, QDA 99.4%, LDA 98.9%, 1NN 96.1% (z-transformed data)) \n",
      "  (All results using the leave-one-out technique) \n",
      "\n",
      "  (2) S. Aeberhard, D. Coomans and O. de Vel, \n",
      "  \"THE CLASSIFICATION PERFORMANCE OF RDA\" \n",
      "  Tech. Rep. no. 92-01, (1992), Dept. of Computer Science and Dept. of \n",
      "  Mathematics and Statistics, James Cook University of North Queensland. \n",
      "  (Also submitted to Journal of Chemometrics).\n",
      "\n"
     ]
    }
   ],
   "source": [
    "print(wine.DESCR)"
   ]
  },
  {
   "cell_type": "markdown",
   "metadata": {
    "id": "Fz2BvhE5NNQD"
   },
   "source": [
    "* 조건\n",
    "    1. training set / test set / validation set 구분하기!\n",
    "    2. scaling (min-max, standardization 둘 중!)\n",
    "    3. y에 대한 전처리\n",
    "    4. 히든 레이어 최소 2개 쓰기 (노드와 액티베이션 자유!)\n",
    "    5. early stopping, validation_data)"
   ]
  },
  {
   "cell_type": "code",
   "execution_count": null,
   "metadata": {
    "id": "ohkvd49MNhDb"
   },
   "outputs": [],
   "source": [
    "import tensorflow as tf\n",
    "from tensorflow import keras"
   ]
  },
  {
   "cell_type": "code",
   "execution_count": null,
   "metadata": {
    "id": "QazLZnzoOPRM"
   },
   "outputs": [],
   "source": [
    "from sklearn.model_selection import train_test_split\n",
    "train_x, test_x, train_y, test_y = train_test_split(x, y, test_size = 0.1, random_state = 2023)"
   ]
  },
  {
   "cell_type": "code",
   "execution_count": null,
   "metadata": {
    "id": "1EECqDXjOhbI"
   },
   "outputs": [],
   "source": [
    "train_x, val_x, train_y, val_y = train_test_split(train_x, train_y, test_size = 0.1, random_state = 2023)"
   ]
  },
  {
   "cell_type": "code",
   "execution_count": null,
   "metadata": {
    "colab": {
     "base_uri": "https://localhost:8080/"
    },
    "executionInfo": {
     "elapsed": 259,
     "status": "ok",
     "timestamp": 1678028641121,
     "user": {
      "displayName": "O H",
      "userId": "10805877738638885762"
     },
     "user_tz": -540
    },
    "id": "_0OwYjhQPJUu",
    "outputId": "92894624-23a4-4f6a-f5af-ecffe83bae88"
   },
   "outputs": [
    {
     "data": {
      "text/plain": [
       "((144, 13), (144,), (16, 13), (16,))"
      ]
     },
     "execution_count": 10,
     "metadata": {},
     "output_type": "execute_result"
    }
   ],
   "source": [
    "train_x.shape, train_y.shape, val_x.shape, val_y.shape"
   ]
  },
  {
   "cell_type": "code",
   "execution_count": null,
   "metadata": {
    "colab": {
     "base_uri": "https://localhost:8080/"
    },
    "executionInfo": {
     "elapsed": 317,
     "status": "ok",
     "timestamp": 1677809726228,
     "user": {
      "displayName": "O H",
      "userId": "10805877738638885762"
     },
     "user_tz": -540
    },
    "id": "8TOxTvOlPQiV",
    "outputId": "de5bae33-bb1f-49d4-e1f6-185201b3707d"
   },
   "outputs": [
    {
     "data": {
      "text/plain": [
       "(1.0, 0.0)"
      ]
     },
     "execution_count": 14,
     "metadata": {},
     "output_type": "execute_result"
    }
   ],
   "source": [
    "# #스케일링\n",
    "# max_n, min_n = train_x.max(), train_x.min()\n",
    "# train_x = (train_x - min_n) / (max_n - min_n)\n",
    "# test_x = (test_x - min_n) / (max_n - min_n)\n",
    "# train_x.max(), train_x.min()"
   ]
  },
  {
   "cell_type": "code",
   "execution_count": null,
   "metadata": {
    "id": "DshOvTbNSGjP"
   },
   "outputs": [],
   "source": [
    "from sklearn.preprocessing import MinMaxScaler, StandardScaler\n",
    "mm_scaler, sd_scaler = MinMaxScaler(), StandardScaler()"
   ]
  },
  {
   "cell_type": "code",
   "execution_count": null,
   "metadata": {
    "colab": {
     "base_uri": "https://localhost:8080/",
     "height": 364
    },
    "executionInfo": {
     "elapsed": 452,
     "status": "ok",
     "timestamp": 1678028731452,
     "user": {
      "displayName": "O H",
      "userId": "10805877738638885762"
     },
     "user_tz": -540
    },
    "id": "IgIYO8eeSbIB",
    "outputId": "2e048dc7-93cc-4d71-faa5-bd09f31cb962"
   },
   "outputs": [
    {
     "data": {
      "text/html": [
       "\n",
       "  <div id=\"df-d919c68a-a5f1-4a1c-a028-cafcadff2af7\">\n",
       "    <div class=\"colab-df-container\">\n",
       "      <div>\n",
       "<style scoped>\n",
       "    .dataframe tbody tr th:only-of-type {\n",
       "        vertical-align: middle;\n",
       "    }\n",
       "\n",
       "    .dataframe tbody tr th {\n",
       "        vertical-align: top;\n",
       "    }\n",
       "\n",
       "    .dataframe thead th {\n",
       "        text-align: right;\n",
       "    }\n",
       "</style>\n",
       "<table border=\"1\" class=\"dataframe\">\n",
       "  <thead>\n",
       "    <tr style=\"text-align: right;\">\n",
       "      <th></th>\n",
       "      <th>alcohol</th>\n",
       "      <th>malic_acid</th>\n",
       "      <th>ash</th>\n",
       "      <th>alcalinity_of_ash</th>\n",
       "      <th>magnesium</th>\n",
       "      <th>total_phenols</th>\n",
       "      <th>flavanoids</th>\n",
       "      <th>nonflavanoid_phenols</th>\n",
       "      <th>proanthocyanins</th>\n",
       "      <th>color_intensity</th>\n",
       "      <th>hue</th>\n",
       "      <th>od280/od315_of_diluted_wines</th>\n",
       "      <th>proline</th>\n",
       "    </tr>\n",
       "  </thead>\n",
       "  <tbody>\n",
       "    <tr>\n",
       "      <th>count</th>\n",
       "      <td>144.000000</td>\n",
       "      <td>144.000000</td>\n",
       "      <td>144.000000</td>\n",
       "      <td>144.0000</td>\n",
       "      <td>144.000000</td>\n",
       "      <td>144.000000</td>\n",
       "      <td>144.000000</td>\n",
       "      <td>144.000000</td>\n",
       "      <td>144.000000</td>\n",
       "      <td>144.000000</td>\n",
       "      <td>144.000000</td>\n",
       "      <td>144.000000</td>\n",
       "      <td>144.000000</td>\n",
       "    </tr>\n",
       "    <tr>\n",
       "      <th>mean</th>\n",
       "      <td>13.022778</td>\n",
       "      <td>2.332917</td>\n",
       "      <td>2.372500</td>\n",
       "      <td>19.3625</td>\n",
       "      <td>99.902778</td>\n",
       "      <td>2.336806</td>\n",
       "      <td>2.100764</td>\n",
       "      <td>0.356250</td>\n",
       "      <td>1.595139</td>\n",
       "      <td>5.003819</td>\n",
       "      <td>0.957889</td>\n",
       "      <td>2.679097</td>\n",
       "      <td>756.263889</td>\n",
       "    </tr>\n",
       "    <tr>\n",
       "      <th>std</th>\n",
       "      <td>0.798531</td>\n",
       "      <td>1.108230</td>\n",
       "      <td>0.269211</td>\n",
       "      <td>3.3394</td>\n",
       "      <td>13.593663</td>\n",
       "      <td>0.638590</td>\n",
       "      <td>0.992632</td>\n",
       "      <td>0.122068</td>\n",
       "      <td>0.551479</td>\n",
       "      <td>2.303946</td>\n",
       "      <td>0.227866</td>\n",
       "      <td>0.715818</td>\n",
       "      <td>322.009316</td>\n",
       "    </tr>\n",
       "    <tr>\n",
       "      <th>min</th>\n",
       "      <td>11.450000</td>\n",
       "      <td>0.890000</td>\n",
       "      <td>1.700000</td>\n",
       "      <td>11.2000</td>\n",
       "      <td>70.000000</td>\n",
       "      <td>0.980000</td>\n",
       "      <td>0.340000</td>\n",
       "      <td>0.130000</td>\n",
       "      <td>0.410000</td>\n",
       "      <td>1.740000</td>\n",
       "      <td>0.480000</td>\n",
       "      <td>1.270000</td>\n",
       "      <td>290.000000</td>\n",
       "    </tr>\n",
       "    <tr>\n",
       "      <th>25%</th>\n",
       "      <td>12.355000</td>\n",
       "      <td>1.610000</td>\n",
       "      <td>2.227500</td>\n",
       "      <td>16.9500</td>\n",
       "      <td>89.000000</td>\n",
       "      <td>1.772500</td>\n",
       "      <td>1.272500</td>\n",
       "      <td>0.260000</td>\n",
       "      <td>1.257500</td>\n",
       "      <td>3.240000</td>\n",
       "      <td>0.777500</td>\n",
       "      <td>2.057500</td>\n",
       "      <td>500.000000</td>\n",
       "    </tr>\n",
       "    <tr>\n",
       "      <th>50%</th>\n",
       "      <td>13.050000</td>\n",
       "      <td>1.845000</td>\n",
       "      <td>2.360000</td>\n",
       "      <td>19.0000</td>\n",
       "      <td>98.000000</td>\n",
       "      <td>2.415000</td>\n",
       "      <td>2.245000</td>\n",
       "      <td>0.340000</td>\n",
       "      <td>1.560000</td>\n",
       "      <td>4.550000</td>\n",
       "      <td>0.960000</td>\n",
       "      <td>2.845000</td>\n",
       "      <td>679.000000</td>\n",
       "    </tr>\n",
       "    <tr>\n",
       "      <th>75%</th>\n",
       "      <td>13.695000</td>\n",
       "      <td>3.000000</td>\n",
       "      <td>2.542500</td>\n",
       "      <td>21.0000</td>\n",
       "      <td>107.250000</td>\n",
       "      <td>2.850000</td>\n",
       "      <td>2.892500</td>\n",
       "      <td>0.430000</td>\n",
       "      <td>1.950000</td>\n",
       "      <td>6.025000</td>\n",
       "      <td>1.122500</td>\n",
       "      <td>3.230000</td>\n",
       "      <td>986.250000</td>\n",
       "    </tr>\n",
       "    <tr>\n",
       "      <th>max</th>\n",
       "      <td>14.750000</td>\n",
       "      <td>5.800000</td>\n",
       "      <td>3.230000</td>\n",
       "      <td>30.0000</td>\n",
       "      <td>151.000000</td>\n",
       "      <td>3.880000</td>\n",
       "      <td>5.080000</td>\n",
       "      <td>0.660000</td>\n",
       "      <td>3.580000</td>\n",
       "      <td>13.000000</td>\n",
       "      <td>1.450000</td>\n",
       "      <td>4.000000</td>\n",
       "      <td>1680.000000</td>\n",
       "    </tr>\n",
       "  </tbody>\n",
       "</table>\n",
       "</div>\n",
       "      <button class=\"colab-df-convert\" onclick=\"convertToInteractive('df-d919c68a-a5f1-4a1c-a028-cafcadff2af7')\"\n",
       "              title=\"Convert this dataframe to an interactive table.\"\n",
       "              style=\"display:none;\">\n",
       "        \n",
       "  <svg xmlns=\"http://www.w3.org/2000/svg\" height=\"24px\"viewBox=\"0 0 24 24\"\n",
       "       width=\"24px\">\n",
       "    <path d=\"M0 0h24v24H0V0z\" fill=\"none\"/>\n",
       "    <path d=\"M18.56 5.44l.94 2.06.94-2.06 2.06-.94-2.06-.94-.94-2.06-.94 2.06-2.06.94zm-11 1L8.5 8.5l.94-2.06 2.06-.94-2.06-.94L8.5 2.5l-.94 2.06-2.06.94zm10 10l.94 2.06.94-2.06 2.06-.94-2.06-.94-.94-2.06-.94 2.06-2.06.94z\"/><path d=\"M17.41 7.96l-1.37-1.37c-.4-.4-.92-.59-1.43-.59-.52 0-1.04.2-1.43.59L10.3 9.45l-7.72 7.72c-.78.78-.78 2.05 0 2.83L4 21.41c.39.39.9.59 1.41.59.51 0 1.02-.2 1.41-.59l7.78-7.78 2.81-2.81c.8-.78.8-2.07 0-2.86zM5.41 20L4 18.59l7.72-7.72 1.47 1.35L5.41 20z\"/>\n",
       "  </svg>\n",
       "      </button>\n",
       "      \n",
       "  <style>\n",
       "    .colab-df-container {\n",
       "      display:flex;\n",
       "      flex-wrap:wrap;\n",
       "      gap: 12px;\n",
       "    }\n",
       "\n",
       "    .colab-df-convert {\n",
       "      background-color: #E8F0FE;\n",
       "      border: none;\n",
       "      border-radius: 50%;\n",
       "      cursor: pointer;\n",
       "      display: none;\n",
       "      fill: #1967D2;\n",
       "      height: 32px;\n",
       "      padding: 0 0 0 0;\n",
       "      width: 32px;\n",
       "    }\n",
       "\n",
       "    .colab-df-convert:hover {\n",
       "      background-color: #E2EBFA;\n",
       "      box-shadow: 0px 1px 2px rgba(60, 64, 67, 0.3), 0px 1px 3px 1px rgba(60, 64, 67, 0.15);\n",
       "      fill: #174EA6;\n",
       "    }\n",
       "\n",
       "    [theme=dark] .colab-df-convert {\n",
       "      background-color: #3B4455;\n",
       "      fill: #D2E3FC;\n",
       "    }\n",
       "\n",
       "    [theme=dark] .colab-df-convert:hover {\n",
       "      background-color: #434B5C;\n",
       "      box-shadow: 0px 1px 3px 1px rgba(0, 0, 0, 0.15);\n",
       "      filter: drop-shadow(0px 1px 2px rgba(0, 0, 0, 0.3));\n",
       "      fill: #FFFFFF;\n",
       "    }\n",
       "  </style>\n",
       "\n",
       "      <script>\n",
       "        const buttonEl =\n",
       "          document.querySelector('#df-d919c68a-a5f1-4a1c-a028-cafcadff2af7 button.colab-df-convert');\n",
       "        buttonEl.style.display =\n",
       "          google.colab.kernel.accessAllowed ? 'block' : 'none';\n",
       "\n",
       "        async function convertToInteractive(key) {\n",
       "          const element = document.querySelector('#df-d919c68a-a5f1-4a1c-a028-cafcadff2af7');\n",
       "          const dataTable =\n",
       "            await google.colab.kernel.invokeFunction('convertToInteractive',\n",
       "                                                     [key], {});\n",
       "          if (!dataTable) return;\n",
       "\n",
       "          const docLinkHtml = 'Like what you see? Visit the ' +\n",
       "            '<a target=\"_blank\" href=https://colab.research.google.com/notebooks/data_table.ipynb>data table notebook</a>'\n",
       "            + ' to learn more about interactive tables.';\n",
       "          element.innerHTML = '';\n",
       "          dataTable['output_type'] = 'display_data';\n",
       "          await google.colab.output.renderOutput(dataTable, element);\n",
       "          const docLink = document.createElement('div');\n",
       "          docLink.innerHTML = docLinkHtml;\n",
       "          element.appendChild(docLink);\n",
       "        }\n",
       "      </script>\n",
       "    </div>\n",
       "  </div>\n",
       "  "
      ],
      "text/plain": [
       "          alcohol  malic_acid         ash  alcalinity_of_ash   magnesium  \\\n",
       "count  144.000000  144.000000  144.000000           144.0000  144.000000   \n",
       "mean    13.022778    2.332917    2.372500            19.3625   99.902778   \n",
       "std      0.798531    1.108230    0.269211             3.3394   13.593663   \n",
       "min     11.450000    0.890000    1.700000            11.2000   70.000000   \n",
       "25%     12.355000    1.610000    2.227500            16.9500   89.000000   \n",
       "50%     13.050000    1.845000    2.360000            19.0000   98.000000   \n",
       "75%     13.695000    3.000000    2.542500            21.0000  107.250000   \n",
       "max     14.750000    5.800000    3.230000            30.0000  151.000000   \n",
       "\n",
       "       total_phenols  flavanoids  nonflavanoid_phenols  proanthocyanins  \\\n",
       "count     144.000000  144.000000            144.000000       144.000000   \n",
       "mean        2.336806    2.100764              0.356250         1.595139   \n",
       "std         0.638590    0.992632              0.122068         0.551479   \n",
       "min         0.980000    0.340000              0.130000         0.410000   \n",
       "25%         1.772500    1.272500              0.260000         1.257500   \n",
       "50%         2.415000    2.245000              0.340000         1.560000   \n",
       "75%         2.850000    2.892500              0.430000         1.950000   \n",
       "max         3.880000    5.080000              0.660000         3.580000   \n",
       "\n",
       "       color_intensity         hue  od280/od315_of_diluted_wines      proline  \n",
       "count       144.000000  144.000000                    144.000000   144.000000  \n",
       "mean          5.003819    0.957889                      2.679097   756.263889  \n",
       "std           2.303946    0.227866                      0.715818   322.009316  \n",
       "min           1.740000    0.480000                      1.270000   290.000000  \n",
       "25%           3.240000    0.777500                      2.057500   500.000000  \n",
       "50%           4.550000    0.960000                      2.845000   679.000000  \n",
       "75%           6.025000    1.122500                      3.230000   986.250000  \n",
       "max          13.000000    1.450000                      4.000000  1680.000000  "
      ]
     },
     "execution_count": 12,
     "metadata": {},
     "output_type": "execute_result"
    }
   ],
   "source": [
    "import pandas as pd\n",
    "pd.DataFrame(train_x, columns = wine.feature_names).describe()"
   ]
  },
  {
   "cell_type": "code",
   "execution_count": null,
   "metadata": {
    "id": "cRaCT69pSp8k"
   },
   "outputs": [],
   "source": [
    "train_x_mm = mm_scaler.fit_transform(train_x)\n",
    "train_x_sd = sd_scaler.fit_transform(train_x)"
   ]
  },
  {
   "cell_type": "code",
   "execution_count": null,
   "metadata": {
    "colab": {
     "base_uri": "https://localhost:8080/",
     "height": 364
    },
    "executionInfo": {
     "elapsed": 289,
     "status": "ok",
     "timestamp": 1678028786705,
     "user": {
      "displayName": "O H",
      "userId": "10805877738638885762"
     },
     "user_tz": -540
    },
    "id": "5PilC3ltSx5Y",
    "outputId": "4d9cea90-0396-4221-c715-17c918f35760"
   },
   "outputs": [
    {
     "data": {
      "text/html": [
       "\n",
       "  <div id=\"df-d094dcb3-a996-4b74-964a-49c2fa29f483\">\n",
       "    <div class=\"colab-df-container\">\n",
       "      <div>\n",
       "<style scoped>\n",
       "    .dataframe tbody tr th:only-of-type {\n",
       "        vertical-align: middle;\n",
       "    }\n",
       "\n",
       "    .dataframe tbody tr th {\n",
       "        vertical-align: top;\n",
       "    }\n",
       "\n",
       "    .dataframe thead th {\n",
       "        text-align: right;\n",
       "    }\n",
       "</style>\n",
       "<table border=\"1\" class=\"dataframe\">\n",
       "  <thead>\n",
       "    <tr style=\"text-align: right;\">\n",
       "      <th></th>\n",
       "      <th>alcohol</th>\n",
       "      <th>malic_acid</th>\n",
       "      <th>ash</th>\n",
       "      <th>alcalinity_of_ash</th>\n",
       "      <th>magnesium</th>\n",
       "      <th>total_phenols</th>\n",
       "      <th>flavanoids</th>\n",
       "      <th>nonflavanoid_phenols</th>\n",
       "      <th>proanthocyanins</th>\n",
       "      <th>color_intensity</th>\n",
       "      <th>hue</th>\n",
       "      <th>od280/od315_of_diluted_wines</th>\n",
       "      <th>proline</th>\n",
       "    </tr>\n",
       "  </thead>\n",
       "  <tbody>\n",
       "    <tr>\n",
       "      <th>count</th>\n",
       "      <td>1.440000e+02</td>\n",
       "      <td>1.440000e+02</td>\n",
       "      <td>1.440000e+02</td>\n",
       "      <td>1.440000e+02</td>\n",
       "      <td>1.440000e+02</td>\n",
       "      <td>1.440000e+02</td>\n",
       "      <td>1.440000e+02</td>\n",
       "      <td>1.440000e+02</td>\n",
       "      <td>1.440000e+02</td>\n",
       "      <td>1.440000e+02</td>\n",
       "      <td>1.440000e+02</td>\n",
       "      <td>1.440000e+02</td>\n",
       "      <td>1.440000e+02</td>\n",
       "    </tr>\n",
       "    <tr>\n",
       "      <th>mean</th>\n",
       "      <td>2.146431e-15</td>\n",
       "      <td>3.022274e-16</td>\n",
       "      <td>1.406282e-15</td>\n",
       "      <td>-1.881211e-16</td>\n",
       "      <td>4.749287e-16</td>\n",
       "      <td>-1.094803e-15</td>\n",
       "      <td>2.467162e-17</td>\n",
       "      <td>-8.018277e-17</td>\n",
       "      <td>8.264994e-16</td>\n",
       "      <td>8.465451e-16</td>\n",
       "      <td>-1.005369e-15</td>\n",
       "      <td>-9.806970e-16</td>\n",
       "      <td>-7.401487e-17</td>\n",
       "    </tr>\n",
       "    <tr>\n",
       "      <th>std</th>\n",
       "      <td>1.003490e+00</td>\n",
       "      <td>1.003490e+00</td>\n",
       "      <td>1.003490e+00</td>\n",
       "      <td>1.003490e+00</td>\n",
       "      <td>1.003490e+00</td>\n",
       "      <td>1.003490e+00</td>\n",
       "      <td>1.003490e+00</td>\n",
       "      <td>1.003490e+00</td>\n",
       "      <td>1.003490e+00</td>\n",
       "      <td>1.003490e+00</td>\n",
       "      <td>1.003490e+00</td>\n",
       "      <td>1.003490e+00</td>\n",
       "      <td>1.003490e+00</td>\n",
       "    </tr>\n",
       "    <tr>\n",
       "      <th>min</th>\n",
       "      <td>-1.976465e+00</td>\n",
       "      <td>-1.306545e+00</td>\n",
       "      <td>-2.506755e+00</td>\n",
       "      <td>-2.452833e+00</td>\n",
       "      <td>-2.207437e+00</td>\n",
       "      <td>-2.132107e+00</td>\n",
       "      <td>-1.780024e+00</td>\n",
       "      <td>-1.859949e+00</td>\n",
       "      <td>-2.156522e+00</td>\n",
       "      <td>-1.421566e+00</td>\n",
       "      <td>-2.104557e+00</td>\n",
       "      <td>-1.975384e+00</td>\n",
       "      <td>-1.453037e+00</td>\n",
       "    </tr>\n",
       "    <tr>\n",
       "      <th>25%</th>\n",
       "      <td>-8.391772e-01</td>\n",
       "      <td>-6.545931e-01</td>\n",
       "      <td>-5.404900e-01</td>\n",
       "      <td>-7.249568e-01</td>\n",
       "      <td>-8.048480e-01</td>\n",
       "      <td>-8.867592e-01</td>\n",
       "      <td>-8.373240e-01</td>\n",
       "      <td>-7.912490e-01</td>\n",
       "      <td>-6.143799e-01</td>\n",
       "      <td>-7.682367e-01</td>\n",
       "      <td>-7.944079e-01</td>\n",
       "      <td>-8.714040e-01</td>\n",
       "      <td>-7.986053e-01</td>\n",
       "    </tr>\n",
       "    <tr>\n",
       "      <th>50%</th>\n",
       "      <td>3.420939e-02</td>\n",
       "      <td>-4.418032e-01</td>\n",
       "      <td>-4.659396e-02</td>\n",
       "      <td>-1.089313e-01</td>\n",
       "      <td>-1.404639e-01</td>\n",
       "      <td>1.228761e-01</td>\n",
       "      <td>1.458139e-01</td>\n",
       "      <td>-1.335875e-01</td>\n",
       "      <td>-6.393999e-02</td>\n",
       "      <td>-1.976624e-01</td>\n",
       "      <td>9.297043e-03</td>\n",
       "      <td>2.325756e-01</td>\n",
       "      <td>-2.407805e-01</td>\n",
       "    </tr>\n",
       "    <tr>\n",
       "      <th>75%</th>\n",
       "      <td>8.447624e-01</td>\n",
       "      <td>6.040366e-01</td>\n",
       "      <td>6.336779e-01</td>\n",
       "      <td>4.920691e-01</td>\n",
       "      <td>5.423753e-01</td>\n",
       "      <td>8.064423e-01</td>\n",
       "      <td>8.003966e-01</td>\n",
       "      <td>6.062817e-01</td>\n",
       "      <td>6.457181e-01</td>\n",
       "      <td>4.447782e-01</td>\n",
       "      <td>7.249247e-01</td>\n",
       "      <td>7.722990e-01</td>\n",
       "      <td>7.167148e-01</td>\n",
       "    </tr>\n",
       "    <tr>\n",
       "      <th>max</th>\n",
       "      <td>2.170551e+00</td>\n",
       "      <td>3.139406e+00</td>\n",
       "      <td>3.196346e+00</td>\n",
       "      <td>3.196571e+00</td>\n",
       "      <td>3.772020e+00</td>\n",
       "      <td>2.425002e+00</td>\n",
       "      <td>3.011825e+00</td>\n",
       "      <td>2.497059e+00</td>\n",
       "      <td>3.611725e+00</td>\n",
       "      <td>3.482760e+00</td>\n",
       "      <td>2.167190e+00</td>\n",
       "      <td>1.851746e+00</td>\n",
       "      <td>2.878676e+00</td>\n",
       "    </tr>\n",
       "  </tbody>\n",
       "</table>\n",
       "</div>\n",
       "      <button class=\"colab-df-convert\" onclick=\"convertToInteractive('df-d094dcb3-a996-4b74-964a-49c2fa29f483')\"\n",
       "              title=\"Convert this dataframe to an interactive table.\"\n",
       "              style=\"display:none;\">\n",
       "        \n",
       "  <svg xmlns=\"http://www.w3.org/2000/svg\" height=\"24px\"viewBox=\"0 0 24 24\"\n",
       "       width=\"24px\">\n",
       "    <path d=\"M0 0h24v24H0V0z\" fill=\"none\"/>\n",
       "    <path d=\"M18.56 5.44l.94 2.06.94-2.06 2.06-.94-2.06-.94-.94-2.06-.94 2.06-2.06.94zm-11 1L8.5 8.5l.94-2.06 2.06-.94-2.06-.94L8.5 2.5l-.94 2.06-2.06.94zm10 10l.94 2.06.94-2.06 2.06-.94-2.06-.94-.94-2.06-.94 2.06-2.06.94z\"/><path d=\"M17.41 7.96l-1.37-1.37c-.4-.4-.92-.59-1.43-.59-.52 0-1.04.2-1.43.59L10.3 9.45l-7.72 7.72c-.78.78-.78 2.05 0 2.83L4 21.41c.39.39.9.59 1.41.59.51 0 1.02-.2 1.41-.59l7.78-7.78 2.81-2.81c.8-.78.8-2.07 0-2.86zM5.41 20L4 18.59l7.72-7.72 1.47 1.35L5.41 20z\"/>\n",
       "  </svg>\n",
       "      </button>\n",
       "      \n",
       "  <style>\n",
       "    .colab-df-container {\n",
       "      display:flex;\n",
       "      flex-wrap:wrap;\n",
       "      gap: 12px;\n",
       "    }\n",
       "\n",
       "    .colab-df-convert {\n",
       "      background-color: #E8F0FE;\n",
       "      border: none;\n",
       "      border-radius: 50%;\n",
       "      cursor: pointer;\n",
       "      display: none;\n",
       "      fill: #1967D2;\n",
       "      height: 32px;\n",
       "      padding: 0 0 0 0;\n",
       "      width: 32px;\n",
       "    }\n",
       "\n",
       "    .colab-df-convert:hover {\n",
       "      background-color: #E2EBFA;\n",
       "      box-shadow: 0px 1px 2px rgba(60, 64, 67, 0.3), 0px 1px 3px 1px rgba(60, 64, 67, 0.15);\n",
       "      fill: #174EA6;\n",
       "    }\n",
       "\n",
       "    [theme=dark] .colab-df-convert {\n",
       "      background-color: #3B4455;\n",
       "      fill: #D2E3FC;\n",
       "    }\n",
       "\n",
       "    [theme=dark] .colab-df-convert:hover {\n",
       "      background-color: #434B5C;\n",
       "      box-shadow: 0px 1px 3px 1px rgba(0, 0, 0, 0.15);\n",
       "      filter: drop-shadow(0px 1px 2px rgba(0, 0, 0, 0.3));\n",
       "      fill: #FFFFFF;\n",
       "    }\n",
       "  </style>\n",
       "\n",
       "      <script>\n",
       "        const buttonEl =\n",
       "          document.querySelector('#df-d094dcb3-a996-4b74-964a-49c2fa29f483 button.colab-df-convert');\n",
       "        buttonEl.style.display =\n",
       "          google.colab.kernel.accessAllowed ? 'block' : 'none';\n",
       "\n",
       "        async function convertToInteractive(key) {\n",
       "          const element = document.querySelector('#df-d094dcb3-a996-4b74-964a-49c2fa29f483');\n",
       "          const dataTable =\n",
       "            await google.colab.kernel.invokeFunction('convertToInteractive',\n",
       "                                                     [key], {});\n",
       "          if (!dataTable) return;\n",
       "\n",
       "          const docLinkHtml = 'Like what you see? Visit the ' +\n",
       "            '<a target=\"_blank\" href=https://colab.research.google.com/notebooks/data_table.ipynb>data table notebook</a>'\n",
       "            + ' to learn more about interactive tables.';\n",
       "          element.innerHTML = '';\n",
       "          dataTable['output_type'] = 'display_data';\n",
       "          await google.colab.output.renderOutput(dataTable, element);\n",
       "          const docLink = document.createElement('div');\n",
       "          docLink.innerHTML = docLinkHtml;\n",
       "          element.appendChild(docLink);\n",
       "        }\n",
       "      </script>\n",
       "    </div>\n",
       "  </div>\n",
       "  "
      ],
      "text/plain": [
       "            alcohol    malic_acid           ash  alcalinity_of_ash  \\\n",
       "count  1.440000e+02  1.440000e+02  1.440000e+02       1.440000e+02   \n",
       "mean   2.146431e-15  3.022274e-16  1.406282e-15      -1.881211e-16   \n",
       "std    1.003490e+00  1.003490e+00  1.003490e+00       1.003490e+00   \n",
       "min   -1.976465e+00 -1.306545e+00 -2.506755e+00      -2.452833e+00   \n",
       "25%   -8.391772e-01 -6.545931e-01 -5.404900e-01      -7.249568e-01   \n",
       "50%    3.420939e-02 -4.418032e-01 -4.659396e-02      -1.089313e-01   \n",
       "75%    8.447624e-01  6.040366e-01  6.336779e-01       4.920691e-01   \n",
       "max    2.170551e+00  3.139406e+00  3.196346e+00       3.196571e+00   \n",
       "\n",
       "          magnesium  total_phenols    flavanoids  nonflavanoid_phenols  \\\n",
       "count  1.440000e+02   1.440000e+02  1.440000e+02          1.440000e+02   \n",
       "mean   4.749287e-16  -1.094803e-15  2.467162e-17         -8.018277e-17   \n",
       "std    1.003490e+00   1.003490e+00  1.003490e+00          1.003490e+00   \n",
       "min   -2.207437e+00  -2.132107e+00 -1.780024e+00         -1.859949e+00   \n",
       "25%   -8.048480e-01  -8.867592e-01 -8.373240e-01         -7.912490e-01   \n",
       "50%   -1.404639e-01   1.228761e-01  1.458139e-01         -1.335875e-01   \n",
       "75%    5.423753e-01   8.064423e-01  8.003966e-01          6.062817e-01   \n",
       "max    3.772020e+00   2.425002e+00  3.011825e+00          2.497059e+00   \n",
       "\n",
       "       proanthocyanins  color_intensity           hue  \\\n",
       "count     1.440000e+02     1.440000e+02  1.440000e+02   \n",
       "mean      8.264994e-16     8.465451e-16 -1.005369e-15   \n",
       "std       1.003490e+00     1.003490e+00  1.003490e+00   \n",
       "min      -2.156522e+00    -1.421566e+00 -2.104557e+00   \n",
       "25%      -6.143799e-01    -7.682367e-01 -7.944079e-01   \n",
       "50%      -6.393999e-02    -1.976624e-01  9.297043e-03   \n",
       "75%       6.457181e-01     4.447782e-01  7.249247e-01   \n",
       "max       3.611725e+00     3.482760e+00  2.167190e+00   \n",
       "\n",
       "       od280/od315_of_diluted_wines       proline  \n",
       "count                  1.440000e+02  1.440000e+02  \n",
       "mean                  -9.806970e-16 -7.401487e-17  \n",
       "std                    1.003490e+00  1.003490e+00  \n",
       "min                   -1.975384e+00 -1.453037e+00  \n",
       "25%                   -8.714040e-01 -7.986053e-01  \n",
       "50%                    2.325756e-01 -2.407805e-01  \n",
       "75%                    7.722990e-01  7.167148e-01  \n",
       "max                    1.851746e+00  2.878676e+00  "
      ]
     },
     "execution_count": 17,
     "metadata": {},
     "output_type": "execute_result"
    }
   ],
   "source": [
    "pd.DataFrame(train_x_sd, columns = wine.feature_names).describe()"
   ]
  },
  {
   "cell_type": "code",
   "execution_count": null,
   "metadata": {
    "id": "SlqnkZuPS_D8"
   },
   "outputs": [],
   "source": [
    "val_x_sd = sd_scaler.transform(val_x)\n",
    "test_x_sd = sd_scaler.transform(test_x)"
   ]
  },
  {
   "cell_type": "code",
   "execution_count": null,
   "metadata": {
    "id": "xTKFqBuJQMsw"
   },
   "outputs": [],
   "source": [
    "#y전처리\n",
    "import numpy as np\n",
    "from tensorflow.keras.utils import to_categorical\n",
    "class_n = len(np.unique(train_y))"
   ]
  },
  {
   "cell_type": "code",
   "execution_count": null,
   "metadata": {
    "id": "GfF1ydgEQYmt"
   },
   "outputs": [],
   "source": [
    "train_y = to_categorical(train_y, class_n)\n",
    "val_y = to_categorical(val_y, class_n)\n",
    "test_y = to_categorical(test_y, class_n)"
   ]
  },
  {
   "cell_type": "code",
   "execution_count": null,
   "metadata": {
    "colab": {
     "base_uri": "https://localhost:8080/"
    },
    "executionInfo": {
     "elapsed": 822,
     "status": "ok",
     "timestamp": 1678028922519,
     "user": {
      "displayName": "O H",
      "userId": "10805877738638885762"
     },
     "user_tz": -540
    },
    "id": "OCTfU6_tUUGA",
    "outputId": "fea421e2-3160-494f-bd9e-9474c66a87d8"
   },
   "outputs": [
    {
     "data": {
      "text/plain": [
       "((144, 13), (144, 3))"
      ]
     },
     "execution_count": 21,
     "metadata": {},
     "output_type": "execute_result"
    }
   ],
   "source": [
    "train_x.shape, train_y.shape"
   ]
  },
  {
   "cell_type": "code",
   "execution_count": null,
   "metadata": {
    "colab": {
     "base_uri": "https://localhost:8080/"
    },
    "executionInfo": {
     "elapsed": 283,
     "status": "ok",
     "timestamp": 1678029178346,
     "user": {
      "displayName": "O H",
      "userId": "10805877738638885762"
     },
     "user_tz": -540
    },
    "id": "dyPNnEQwQrNR",
    "outputId": "fb45a735-612a-447e-ae02-9b82d67e6fb6"
   },
   "outputs": [
    {
     "name": "stdout",
     "output_type": "stream",
     "text": [
      "Model: \"model\"\n",
      "_________________________________________________________________\n",
      " Layer (type)                Output Shape              Param #   \n",
      "=================================================================\n",
      " input_1 (InputLayer)        [(None, 13)]              0         \n",
      "                                                                 \n",
      " hidden1 (Dense)             (None, 64)                896       \n",
      "                                                                 \n",
      " hidden2 (Dense)             (None, 32)                2080      \n",
      "                                                                 \n",
      " output (Dense)              (None, 3)                 99        \n",
      "                                                                 \n",
      "=================================================================\n",
      "Total params: 3,075\n",
      "Trainable params: 3,075\n",
      "Non-trainable params: 0\n",
      "_________________________________________________________________\n"
     ]
    }
   ],
   "source": [
    "#모델링 Functional API\n",
    "\n",
    "#1. 세션 클리어\n",
    "keras.backend.clear_session()\n",
    "\n",
    "#2. 사슬처럼 엮기\n",
    "il = keras.layers.Input(shape = (13, ))\n",
    "hl = keras.layers.Dense(64, activation = \"relu\", name = \"hidden1\")(il)\n",
    "hl = keras.layers.Dense(32, activation = \"relu\", name = \"hidden2\")(hl)\n",
    "ol = keras.layers.Dense(3, activation = \"softmax\", name = \"output\")(hl)\n",
    "\n",
    "#3. 모델의 시작/끝 지정\n",
    "model = keras.models.Model(il, ol)\n",
    "\n",
    "#4. 컴파일\n",
    "model.compile(loss = \"categorical_crossentropy\", metrics = [\"accuracy\"], optimizer = \"adam\")\n",
    "\n",
    "#5. 요약\n",
    "model.summary()"
   ]
  },
  {
   "cell_type": "code",
   "execution_count": null,
   "metadata": {
    "id": "kQQ-CkywXrwm"
   },
   "outputs": [],
   "source": [
    "#Early stopping\n",
    "from tensorflow.keras.callbacks import EarlyStopping\n",
    "es = EarlyStopping(monitor = \"val_loss\", min_delta = 0, patience = 5, verbose = 1, restore_best_weights = True)"
   ]
  },
  {
   "cell_type": "code",
   "execution_count": null,
   "metadata": {
    "colab": {
     "base_uri": "https://localhost:8080/"
    },
    "executionInfo": {
     "elapsed": 7309,
     "status": "ok",
     "timestamp": 1678029314392,
     "user": {
      "displayName": "O H",
      "userId": "10805877738638885762"
     },
     "user_tz": -540
    },
    "id": "bOuYjGTKY7Di",
    "outputId": "c5a6f4eb-7e86-4857-af0d-a1fa01ad547d"
   },
   "outputs": [
    {
     "name": "stdout",
     "output_type": "stream",
     "text": [
      "Epoch 1/10000\n",
      "5/5 [==============================] - 5s 73ms/step - loss: 1.2028 - accuracy: 0.5764 - val_loss: 1.2428 - val_accuracy: 0.6250\n",
      "Epoch 2/10000\n",
      "5/5 [==============================] - 0s 11ms/step - loss: 0.9922 - accuracy: 0.7222 - val_loss: 1.0159 - val_accuracy: 0.6250\n",
      "Epoch 3/10000\n",
      "5/5 [==============================] - 0s 15ms/step - loss: 0.8263 - accuracy: 0.7361 - val_loss: 0.8262 - val_accuracy: 0.6250\n",
      "Epoch 4/10000\n",
      "5/5 [==============================] - 0s 11ms/step - loss: 0.6851 - accuracy: 0.7500 - val_loss: 0.6669 - val_accuracy: 0.6875\n",
      "Epoch 5/10000\n",
      "5/5 [==============================] - 0s 11ms/step - loss: 0.5653 - accuracy: 0.7917 - val_loss: 0.5432 - val_accuracy: 0.8125\n",
      "Epoch 6/10000\n",
      "5/5 [==============================] - 0s 11ms/step - loss: 0.4745 - accuracy: 0.8958 - val_loss: 0.4421 - val_accuracy: 0.9375\n",
      "Epoch 7/10000\n",
      "5/5 [==============================] - 0s 11ms/step - loss: 0.3958 - accuracy: 0.9375 - val_loss: 0.3638 - val_accuracy: 0.9375\n",
      "Epoch 8/10000\n",
      "5/5 [==============================] - 0s 11ms/step - loss: 0.3310 - accuracy: 0.9583 - val_loss: 0.3008 - val_accuracy: 0.9375\n",
      "Epoch 9/10000\n",
      "5/5 [==============================] - 0s 15ms/step - loss: 0.2754 - accuracy: 0.9792 - val_loss: 0.2515 - val_accuracy: 0.9375\n",
      "Epoch 10/10000\n",
      "5/5 [==============================] - 0s 17ms/step - loss: 0.2316 - accuracy: 0.9792 - val_loss: 0.2118 - val_accuracy: 0.9375\n",
      "Epoch 11/10000\n",
      "5/5 [==============================] - 0s 15ms/step - loss: 0.1930 - accuracy: 0.9792 - val_loss: 0.1815 - val_accuracy: 0.9375\n",
      "Epoch 12/10000\n",
      "5/5 [==============================] - 0s 17ms/step - loss: 0.1638 - accuracy: 0.9792 - val_loss: 0.1583 - val_accuracy: 0.9375\n",
      "Epoch 13/10000\n",
      "5/5 [==============================] - 0s 19ms/step - loss: 0.1386 - accuracy: 0.9792 - val_loss: 0.1399 - val_accuracy: 0.9375\n",
      "Epoch 14/10000\n",
      "5/5 [==============================] - 0s 18ms/step - loss: 0.1188 - accuracy: 0.9792 - val_loss: 0.1256 - val_accuracy: 0.9375\n",
      "Epoch 15/10000\n",
      "5/5 [==============================] - 0s 17ms/step - loss: 0.1025 - accuracy: 0.9792 - val_loss: 0.1148 - val_accuracy: 0.9375\n",
      "Epoch 16/10000\n",
      "5/5 [==============================] - 0s 19ms/step - loss: 0.0895 - accuracy: 0.9861 - val_loss: 0.1075 - val_accuracy: 0.9375\n",
      "Epoch 17/10000\n",
      "5/5 [==============================] - 0s 18ms/step - loss: 0.0789 - accuracy: 0.9861 - val_loss: 0.1026 - val_accuracy: 0.9375\n",
      "Epoch 18/10000\n",
      "5/5 [==============================] - 0s 19ms/step - loss: 0.0703 - accuracy: 0.9861 - val_loss: 0.0999 - val_accuracy: 0.9375\n",
      "Epoch 19/10000\n",
      "5/5 [==============================] - 0s 15ms/step - loss: 0.0632 - accuracy: 0.9861 - val_loss: 0.0975 - val_accuracy: 0.9375\n",
      "Epoch 20/10000\n",
      "5/5 [==============================] - 0s 18ms/step - loss: 0.0566 - accuracy: 0.9861 - val_loss: 0.0962 - val_accuracy: 0.9375\n",
      "Epoch 21/10000\n",
      "5/5 [==============================] - 0s 19ms/step - loss: 0.0512 - accuracy: 0.9931 - val_loss: 0.0950 - val_accuracy: 0.9375\n",
      "Epoch 22/10000\n",
      "5/5 [==============================] - 0s 17ms/step - loss: 0.0469 - accuracy: 0.9931 - val_loss: 0.0939 - val_accuracy: 0.9375\n",
      "Epoch 23/10000\n",
      "5/5 [==============================] - 0s 19ms/step - loss: 0.0426 - accuracy: 1.0000 - val_loss: 0.0940 - val_accuracy: 0.9375\n",
      "Epoch 24/10000\n",
      "5/5 [==============================] - 0s 19ms/step - loss: 0.0389 - accuracy: 1.0000 - val_loss: 0.0941 - val_accuracy: 0.9375\n",
      "Epoch 25/10000\n",
      "5/5 [==============================] - 0s 15ms/step - loss: 0.0358 - accuracy: 1.0000 - val_loss: 0.0941 - val_accuracy: 0.9375\n",
      "Epoch 26/10000\n",
      "5/5 [==============================] - 0s 16ms/step - loss: 0.0327 - accuracy: 1.0000 - val_loss: 0.0972 - val_accuracy: 0.9375\n",
      "Epoch 27/10000\n",
      "1/5 [=====>........................] - ETA: 0s - loss: 0.0308 - accuracy: 1.0000Restoring model weights from the end of the best epoch: 22.\n",
      "5/5 [==============================] - 0s 27ms/step - loss: 0.0303 - accuracy: 1.0000 - val_loss: 0.0989 - val_accuracy: 0.9375\n",
      "Epoch 27: early stopping\n"
     ]
    },
    {
     "data": {
      "text/plain": [
       "<keras.callbacks.History at 0x7fface2888b0>"
      ]
     },
     "execution_count": 25,
     "metadata": {},
     "output_type": "execute_result"
    }
   ],
   "source": [
    "#학습\n",
    "model.fit(train_x_sd, train_y, epochs = 10000, verbose = 1, callbacks = [es], validation_data = (val_x_sd, val_y))\n",
    "#전처리에서 validation set으로 나누고 스케일링을 했으면 validation_data를 이용한다!!!!!!!!!"
   ]
  },
  {
   "cell_type": "code",
   "execution_count": null,
   "metadata": {
    "colab": {
     "base_uri": "https://localhost:8080/"
    },
    "executionInfo": {
     "elapsed": 745,
     "status": "ok",
     "timestamp": 1678029693762,
     "user": {
      "displayName": "O H",
      "userId": "10805877738638885762"
     },
     "user_tz": -540
    },
    "id": "MvZulaNzZWP7",
    "outputId": "738d2b9d-c97c-4377-d3bb-c146ffbe8b5b"
   },
   "outputs": [
    {
     "name": "stdout",
     "output_type": "stream",
     "text": [
      "1/1 [==============================] - 0s 21ms/step\n"
     ]
    }
   ],
   "source": [
    "y_pred = model.predict(test_x_sd)"
   ]
  },
  {
   "cell_type": "code",
   "execution_count": null,
   "metadata": {
    "colab": {
     "base_uri": "https://localhost:8080/"
    },
    "executionInfo": {
     "elapsed": 2,
     "status": "ok",
     "timestamp": 1678029695970,
     "user": {
      "displayName": "O H",
      "userId": "10805877738638885762"
     },
     "user_tz": -540
    },
    "id": "BUQwaWI8ZbCj",
    "outputId": "4ca0599e-1255-4b41-b1ec-fd957f5aa9a3"
   },
   "outputs": [
    {
     "data": {
      "text/plain": [
       "array([[8.8519603e-03, 5.4547649e-02, 9.3660039e-01],\n",
       "       [6.3290834e-05, 9.9979526e-01, 1.4151759e-04],\n",
       "       [2.6383221e-02, 6.4366855e-02, 9.0924990e-01],\n",
       "       [3.7667327e-04, 9.9948895e-01, 1.3435619e-04],\n",
       "       [9.9779701e-01, 1.9302783e-03, 2.7272591e-04]], dtype=float32)"
      ]
     },
     "execution_count": 28,
     "metadata": {},
     "output_type": "execute_result"
    }
   ],
   "source": [
    "y_pred[:5]"
   ]
  },
  {
   "cell_type": "code",
   "execution_count": null,
   "metadata": {
    "colab": {
     "base_uri": "https://localhost:8080/"
    },
    "executionInfo": {
     "elapsed": 313,
     "status": "ok",
     "timestamp": 1678029699261,
     "user": {
      "displayName": "O H",
      "userId": "10805877738638885762"
     },
     "user_tz": -540
    },
    "id": "AMK1yLKiZdBU",
    "outputId": "748c44f6-8b04-4a30-e4f6-df744b3e5d48"
   },
   "outputs": [
    {
     "data": {
      "text/plain": [
       "array([[0., 0., 1.],\n",
       "       [0., 1., 0.],\n",
       "       [0., 0., 1.],\n",
       "       [0., 1., 0.],\n",
       "       [1., 0., 0.]], dtype=float32)"
      ]
     },
     "execution_count": 29,
     "metadata": {},
     "output_type": "execute_result"
    }
   ],
   "source": [
    "test_y[:5]"
   ]
  }
 ],
 "metadata": {
  "accelerator": "GPU",
  "colab": {
   "authorship_tag": "ABX9TyNYPUpUZt+bXOnP9PSPPhTd",
   "provenance": []
  },
  "gpuClass": "standard",
  "kernelspec": {
   "display_name": "Python 3 (ipykernel)",
   "language": "python",
   "name": "python3"
  },
  "language_info": {
   "codemirror_mode": {
    "name": "ipython",
    "version": 3
   },
   "file_extension": ".py",
   "mimetype": "text/x-python",
   "name": "python",
   "nbconvert_exporter": "python",
   "pygments_lexer": "ipython3",
   "version": "3.9.13"
  }
 },
 "nbformat": 4,
 "nbformat_minor": 4
}
