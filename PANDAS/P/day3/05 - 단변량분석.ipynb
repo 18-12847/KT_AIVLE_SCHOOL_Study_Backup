{
 "cells": [
  {
   "cell_type": "markdown",
   "metadata": {
    "id": "mVOYUVwYNrob"
   },
   "source": [
    "# 단변량분석_숫자형변수"
   ]
  },
  {
   "cell_type": "markdown",
   "metadata": {
    "id": "adtGg06rvqe3"
   },
   "source": [
    "<img src='https://github.com/DA4BAM/image/blob/main/%EB%8B%A8%EB%B3%80%EB%9F%89%EB%B6%84%EC%84%9D.png?raw=true' width=400/>"
   ]
  },
  {
   "cell_type": "markdown",
   "metadata": {
    "id": "c1uOWzZl_YZH"
   },
   "source": [
    "# 1.환경준비"
   ]
  },
  {
   "cell_type": "markdown",
   "metadata": {
    "id": "LS2rtJiJlaF0"
   },
   "source": [
    "## (1) 라이브러리 불러오기"
   ]
  },
  {
   "cell_type": "code",
   "execution_count": 2,
   "metadata": {
    "id": "ba319GIZlcFB"
   },
   "outputs": [],
   "source": [
    "import numpy as np\n",
    "import pandas as pd\n",
    "\n",
    "import matplotlib.pyplot as plt\n",
    "import seaborn as sns"
   ]
  },
  {
   "cell_type": "markdown",
   "metadata": {
    "id": "TCceTRSHqibR"
   },
   "source": [
    "## (2) 데이터 로딩"
   ]
  },
  {
   "cell_type": "markdown",
   "metadata": {
    "id": "f5tqiBA_qnGe"
   },
   "source": [
    "### 1) titanic\n",
    "* url :  'https://raw.githubusercontent.com/DA4BAM/dataset/master/titanic_simple.csv'"
   ]
  },
  {
   "cell_type": "markdown",
   "metadata": {
    "id": "VjjG_iJ_qnGf"
   },
   "source": [
    "**[titanic_simple 데이터 셋 정보]**\n",
    "\n",
    "- PassengerId : 승객번호\n",
    "- Survived : 생존여부(1:생존, 0:사망)\n",
    "- Pclass : 객실등급(1:1등급, 2:2등급, 3:3등급)\n",
    "- Name : 승객이름\n",
    "- Sex : 성별(male, female)\n",
    "- Age : 나이\n",
    "- Fare : 운임($)\n",
    "- Embarked : 승선지역(Southhampton, Cherbourg, Queenstown)"
   ]
  },
  {
   "cell_type": "code",
   "execution_count": 3,
   "metadata": {
    "id": "GGiShK-RqnGf"
   },
   "outputs": [
    {
     "data": {
      "text/html": [
       "<div>\n",
       "<style scoped>\n",
       "    .dataframe tbody tr th:only-of-type {\n",
       "        vertical-align: middle;\n",
       "    }\n",
       "\n",
       "    .dataframe tbody tr th {\n",
       "        vertical-align: top;\n",
       "    }\n",
       "\n",
       "    .dataframe thead th {\n",
       "        text-align: right;\n",
       "    }\n",
       "</style>\n",
       "<table border=\"1\" class=\"dataframe\">\n",
       "  <thead>\n",
       "    <tr style=\"text-align: right;\">\n",
       "      <th></th>\n",
       "      <th>PassengerId</th>\n",
       "      <th>Survived</th>\n",
       "      <th>Pclass</th>\n",
       "      <th>Name</th>\n",
       "      <th>Sex</th>\n",
       "      <th>Age</th>\n",
       "      <th>Fare</th>\n",
       "      <th>Embarked</th>\n",
       "    </tr>\n",
       "  </thead>\n",
       "  <tbody>\n",
       "    <tr>\n",
       "      <th>0</th>\n",
       "      <td>1</td>\n",
       "      <td>0</td>\n",
       "      <td>3</td>\n",
       "      <td>Braund, Mr. Owen Harris</td>\n",
       "      <td>male</td>\n",
       "      <td>22.0</td>\n",
       "      <td>7.2500</td>\n",
       "      <td>Southhampton</td>\n",
       "    </tr>\n",
       "    <tr>\n",
       "      <th>1</th>\n",
       "      <td>2</td>\n",
       "      <td>1</td>\n",
       "      <td>1</td>\n",
       "      <td>Cumings, Mrs. John Bradley (Florence Briggs Th...</td>\n",
       "      <td>female</td>\n",
       "      <td>38.0</td>\n",
       "      <td>71.2833</td>\n",
       "      <td>Cherbourg</td>\n",
       "    </tr>\n",
       "    <tr>\n",
       "      <th>2</th>\n",
       "      <td>3</td>\n",
       "      <td>1</td>\n",
       "      <td>3</td>\n",
       "      <td>Heikkinen, Miss. Laina</td>\n",
       "      <td>female</td>\n",
       "      <td>26.0</td>\n",
       "      <td>7.9250</td>\n",
       "      <td>Southhampton</td>\n",
       "    </tr>\n",
       "    <tr>\n",
       "      <th>3</th>\n",
       "      <td>4</td>\n",
       "      <td>1</td>\n",
       "      <td>1</td>\n",
       "      <td>Futrelle, Mrs. Jacques Heath (Lily May Peel)</td>\n",
       "      <td>female</td>\n",
       "      <td>35.0</td>\n",
       "      <td>53.1000</td>\n",
       "      <td>Southhampton</td>\n",
       "    </tr>\n",
       "    <tr>\n",
       "      <th>4</th>\n",
       "      <td>5</td>\n",
       "      <td>0</td>\n",
       "      <td>3</td>\n",
       "      <td>Allen, Mr. William Henry</td>\n",
       "      <td>male</td>\n",
       "      <td>35.0</td>\n",
       "      <td>8.0500</td>\n",
       "      <td>Southhampton</td>\n",
       "    </tr>\n",
       "  </tbody>\n",
       "</table>\n",
       "</div>"
      ],
      "text/plain": [
       "   PassengerId  Survived  Pclass  \\\n",
       "0            1         0       3   \n",
       "1            2         1       1   \n",
       "2            3         1       3   \n",
       "3            4         1       1   \n",
       "4            5         0       3   \n",
       "\n",
       "                                                Name     Sex   Age     Fare  \\\n",
       "0                            Braund, Mr. Owen Harris    male  22.0   7.2500   \n",
       "1  Cumings, Mrs. John Bradley (Florence Briggs Th...  female  38.0  71.2833   \n",
       "2                             Heikkinen, Miss. Laina  female  26.0   7.9250   \n",
       "3       Futrelle, Mrs. Jacques Heath (Lily May Peel)  female  35.0  53.1000   \n",
       "4                           Allen, Mr. William Henry    male  35.0   8.0500   \n",
       "\n",
       "       Embarked  \n",
       "0  Southhampton  \n",
       "1     Cherbourg  \n",
       "2  Southhampton  \n",
       "3  Southhampton  \n",
       "4  Southhampton  "
      ]
     },
     "execution_count": 3,
     "metadata": {},
     "output_type": "execute_result"
    }
   ],
   "source": [
    "path = 'https://raw.githubusercontent.com/DA4BAM/dataset/master/titanic_simple.csv'\n",
    "titanic = pd.read_csv(path)\n",
    "titanic.head()"
   ]
  },
  {
   "cell_type": "markdown",
   "metadata": {
    "id": "sF3d7B9Gqvvg"
   },
   "source": [
    "### 2) New York Air Quality\n",
    "\n",
    "* url : https://raw.githubusercontent.com/DA4BAM/dataset/master/air2.csv"
   ]
  },
  {
   "cell_type": "markdown",
   "metadata": {
    "id": "70oTx7P0qvvh"
   },
   "source": [
    "**[airquality 데이터 셋 정보]**\n",
    "\n",
    "- Ozone: 오존 농도  \n",
    "- Solar.R: 태양복사량\n",
    "- Wind: 풍속\n",
    "- Temp: 기온\n",
    "- Date : 연,월,일"
   ]
  },
  {
   "cell_type": "code",
   "execution_count": 4,
   "metadata": {
    "id": "mln1ip8Eqvvi",
    "scrolled": true
   },
   "outputs": [
    {
     "data": {
      "text/html": [
       "<div>\n",
       "<style scoped>\n",
       "    .dataframe tbody tr th:only-of-type {\n",
       "        vertical-align: middle;\n",
       "    }\n",
       "\n",
       "    .dataframe tbody tr th {\n",
       "        vertical-align: top;\n",
       "    }\n",
       "\n",
       "    .dataframe thead th {\n",
       "        text-align: right;\n",
       "    }\n",
       "</style>\n",
       "<table border=\"1\" class=\"dataframe\">\n",
       "  <thead>\n",
       "    <tr style=\"text-align: right;\">\n",
       "      <th></th>\n",
       "      <th>Ozone</th>\n",
       "      <th>Solar.R</th>\n",
       "      <th>Wind</th>\n",
       "      <th>Temp</th>\n",
       "      <th>Date</th>\n",
       "    </tr>\n",
       "  </thead>\n",
       "  <tbody>\n",
       "    <tr>\n",
       "      <th>0</th>\n",
       "      <td>41</td>\n",
       "      <td>190.0</td>\n",
       "      <td>7.4</td>\n",
       "      <td>67</td>\n",
       "      <td>1973-05-01</td>\n",
       "    </tr>\n",
       "    <tr>\n",
       "      <th>1</th>\n",
       "      <td>36</td>\n",
       "      <td>118.0</td>\n",
       "      <td>8.0</td>\n",
       "      <td>72</td>\n",
       "      <td>1973-05-02</td>\n",
       "    </tr>\n",
       "    <tr>\n",
       "      <th>2</th>\n",
       "      <td>12</td>\n",
       "      <td>149.0</td>\n",
       "      <td>12.6</td>\n",
       "      <td>74</td>\n",
       "      <td>1973-05-03</td>\n",
       "    </tr>\n",
       "    <tr>\n",
       "      <th>3</th>\n",
       "      <td>18</td>\n",
       "      <td>313.0</td>\n",
       "      <td>11.5</td>\n",
       "      <td>62</td>\n",
       "      <td>1973-05-04</td>\n",
       "    </tr>\n",
       "    <tr>\n",
       "      <th>4</th>\n",
       "      <td>19</td>\n",
       "      <td>NaN</td>\n",
       "      <td>14.3</td>\n",
       "      <td>56</td>\n",
       "      <td>1973-05-05</td>\n",
       "    </tr>\n",
       "  </tbody>\n",
       "</table>\n",
       "</div>"
      ],
      "text/plain": [
       "   Ozone  Solar.R  Wind  Temp        Date\n",
       "0     41    190.0   7.4    67  1973-05-01\n",
       "1     36    118.0   8.0    72  1973-05-02\n",
       "2     12    149.0  12.6    74  1973-05-03\n",
       "3     18    313.0  11.5    62  1973-05-04\n",
       "4     19      NaN  14.3    56  1973-05-05"
      ]
     },
     "execution_count": 4,
     "metadata": {},
     "output_type": "execute_result"
    }
   ],
   "source": [
    "path = 'https://raw.githubusercontent.com/DA4BAM/dataset/master/air2.csv'\n",
    "air = pd.read_csv(path)\n",
    "air.head()"
   ]
  },
  {
   "cell_type": "markdown",
   "metadata": {
    "id": "nwmAb_eGqD4v"
   },
   "source": [
    "# 2.숫자형 변수"
   ]
  },
  {
   "cell_type": "markdown",
   "metadata": {
    "id": "qY83KTiYc0n9"
   },
   "source": [
    "## (1) 수치화 : 대푯값"
   ]
  },
  {
   "cell_type": "markdown",
   "metadata": {
    "id": "TSH5qe--sZsK"
   },
   "source": [
    "### 1) 평균(산술평균)"
   ]
  },
  {
   "cell_type": "code",
   "execution_count": 5,
   "metadata": {
    "id": "vPI2O4siNroc"
   },
   "outputs": [
    {
     "name": "stdout",
     "output_type": "stream",
     "text": [
      "32.2042079685746\n",
      "32.2042079685746\n"
     ]
    }
   ],
   "source": [
    "# 넘파이 함수, 판다스 mean 메서드 이용\n",
    "print(np.mean(titanic[\"Fare\"]))\n",
    "print(titanic[\"Fare\"].mean())"
   ]
  },
  {
   "cell_type": "markdown",
   "metadata": {
    "id": "VH6yv56lsfZR"
   },
   "source": [
    "### 2) 중앙값(중위수, median)  \n",
    "\n",
    "자료의 순서상 가운데 위치한 값"
   ]
  },
  {
   "cell_type": "code",
   "execution_count": 7,
   "metadata": {
    "id": "osF7Ie96PCcR"
   },
   "outputs": [
    {
     "name": "stdout",
     "output_type": "stream",
     "text": [
      "14.4542\n",
      "14.4542\n"
     ]
    }
   ],
   "source": [
    "# 넘파이 함수, 판다스 median 메서드 이용\n",
    "print(np.median(titanic['Fare']))\n",
    "print(titanic['Fare'].median())"
   ]
  },
  {
   "cell_type": "markdown",
   "metadata": {
    "id": "aFytLj2tstrS"
   },
   "source": [
    "### 3) 최빈값\n",
    "\n",
    "* 자료 중에서 가장 빈번하게 나타나는 값(빈도가 높은 값)\n",
    "* 이산형 데이터(셀 수 있는 데이터)"
   ]
  },
  {
   "cell_type": "code",
   "execution_count": 8,
   "metadata": {
    "id": "lCVHNV9DsubB"
   },
   "outputs": [
    {
     "data": {
      "text/plain": [
       "0    3\n",
       "Name: Pclass, dtype: int64"
      ]
     },
     "execution_count": 8,
     "metadata": {},
     "output_type": "execute_result"
    }
   ],
   "source": [
    "# 판다스 메서드 이용하기\n",
    "titanic['Pclass'].mode()"
   ]
  },
  {
   "cell_type": "markdown",
   "metadata": {
    "id": "vTDE0Dzxs01S"
   },
   "source": [
    "### 4) 4분위수"
   ]
  },
  {
   "cell_type": "markdown",
   "metadata": {
    "id": "EfaapGaeuqXg"
   },
   "source": [
    "![](https://mblogthumb-phinf.pstatic.net/20150702_229/jevida_1435803723327eyeeG_PNG/3.png?type=w2)"
   ]
  },
  {
   "cell_type": "code",
   "execution_count": 9,
   "metadata": {
    "id": "bIFWnH4ks1No"
   },
   "outputs": [
    {
     "data": {
      "text/plain": [
       "count    891.000000\n",
       "mean      32.204208\n",
       "std       49.693429\n",
       "min        0.000000\n",
       "25%        7.910400\n",
       "50%       14.454200\n",
       "75%       31.000000\n",
       "max      512.329200\n",
       "Name: Fare, dtype: float64"
      ]
     },
     "execution_count": 9,
     "metadata": {},
     "output_type": "execute_result"
    }
   ],
   "source": [
    "titanic['Fare'].describe()"
   ]
  },
  {
   "cell_type": "markdown",
   "metadata": {
    "id": "xSWBmU_Yeu5A"
   },
   "source": [
    "<img src='https://raw.githubusercontent.com/jangrae/img/master/practice_01.png' width=120 align=\"left\"/>"
   ]
  },
  {
   "cell_type": "markdown",
   "metadata": {
    "id": "fGNJycBYs6XZ"
   },
   "source": [
    "연습문제를 풀어 봅시다."
   ]
  },
  {
   "cell_type": "code",
   "execution_count": 10,
   "metadata": {
    "id": "o36wZp21s6p5"
   },
   "outputs": [
    {
     "name": "stdout",
     "output_type": "stream",
     "text": [
      "29.69911764705882\n",
      "0    24.0\n",
      "Name: Age, dtype: float64\n",
      "28.0\n",
      "count    714.000000\n",
      "mean      29.699118\n",
      "std       14.526497\n",
      "min        0.420000\n",
      "25%       20.125000\n",
      "50%       28.000000\n",
      "75%       38.000000\n",
      "max       80.000000\n",
      "Name: Age, dtype: float64\n"
     ]
    }
   ],
   "source": [
    "# titanic의 Age에 대해서 다음을 각각 확인해 봅시다.\n",
    "# titanic[\"Age\"].describe()\n",
    "\n",
    "# 평균\n",
    "print(titanic[\"Age\"].mean())\n",
    "\n",
    "# 최빈값\n",
    "print(titanic[\"Age\"].mode())\n",
    "\n",
    "# 중앙값\n",
    "print(titanic[\"Age\"].median())\n",
    "\n",
    "# 4분위수\n",
    "print(titanic[\"Age\"].describe())\n"
   ]
  },
  {
   "cell_type": "code",
   "execution_count": 11,
   "metadata": {
    "id": "6hY4VTuY5hSC"
   },
   "outputs": [
    {
     "name": "stdout",
     "output_type": "stream",
     "text": [
      "42.052287581699346\n",
      "0    23\n",
      "Name: Ozone, dtype: int64\n",
      "34.0\n",
      "count    153.000000\n",
      "mean      42.052288\n",
      "std       30.156127\n",
      "min        1.000000\n",
      "25%       20.000000\n",
      "50%       34.000000\n",
      "75%       59.000000\n",
      "max      168.000000\n",
      "Name: Ozone, dtype: float64\n"
     ]
    }
   ],
   "source": [
    "# air의 Ozone에 대해서 다음을 각각 확인해 봅시다.\n",
    "\n",
    "# 평균\n",
    "print(air[\"Ozone\"].mean())\n",
    "# 최빈값\n",
    "print(air[\"Ozone\"].mode())\n",
    "# 중앙값\n",
    "print(air[\"Ozone\"].median())\n",
    "# 4분위수\n",
    "print(air[\"Ozone\"].describe())"
   ]
  },
  {
   "cell_type": "markdown",
   "metadata": {
    "id": "85KHqr0rhFdC"
   },
   "source": [
    "## (2) 수치화 : 기초통계량"
   ]
  },
  {
   "cell_type": "markdown",
   "metadata": {
    "id": "X4bu__mctP3o"
   },
   "source": [
    "### 1) 시리즈.describe()"
   ]
  },
  {
   "cell_type": "code",
   "execution_count": 12,
   "metadata": {
    "id": "Nr5zRn5rNroc",
    "scrolled": true
   },
   "outputs": [
    {
     "data": {
      "text/plain": [
       "count    891.000000\n",
       "mean      32.204208\n",
       "std       49.693429\n",
       "min        0.000000\n",
       "25%        7.910400\n",
       "50%       14.454200\n",
       "75%       31.000000\n",
       "max      512.329200\n",
       "Name: Fare, dtype: float64"
      ]
     },
     "execution_count": 12,
     "metadata": {},
     "output_type": "execute_result"
    }
   ],
   "source": [
    "titanic['Fare'].describe()"
   ]
  },
  {
   "cell_type": "markdown",
   "metadata": {
    "id": "gCVwyFgStnsK"
   },
   "source": [
    "### 2) 데이터프레임.describe()"
   ]
  },
  {
   "cell_type": "code",
   "execution_count": 11,
   "metadata": {
    "id": "do-WCgAAARNQ"
   },
   "outputs": [
    {
     "data": {
      "text/html": [
       "<div>\n",
       "<style scoped>\n",
       "    .dataframe tbody tr th:only-of-type {\n",
       "        vertical-align: middle;\n",
       "    }\n",
       "\n",
       "    .dataframe tbody tr th {\n",
       "        vertical-align: top;\n",
       "    }\n",
       "\n",
       "    .dataframe thead th {\n",
       "        text-align: right;\n",
       "    }\n",
       "</style>\n",
       "<table border=\"1\" class=\"dataframe\">\n",
       "  <thead>\n",
       "    <tr style=\"text-align: right;\">\n",
       "      <th></th>\n",
       "      <th>PassengerId</th>\n",
       "      <th>Survived</th>\n",
       "      <th>Pclass</th>\n",
       "      <th>Name</th>\n",
       "      <th>Sex</th>\n",
       "      <th>Age</th>\n",
       "      <th>Fare</th>\n",
       "      <th>Embarked</th>\n",
       "    </tr>\n",
       "  </thead>\n",
       "  <tbody>\n",
       "    <tr>\n",
       "      <th>0</th>\n",
       "      <td>1</td>\n",
       "      <td>0</td>\n",
       "      <td>3</td>\n",
       "      <td>Braund, Mr. Owen Harris</td>\n",
       "      <td>male</td>\n",
       "      <td>22.0</td>\n",
       "      <td>7.2500</td>\n",
       "      <td>Southhampton</td>\n",
       "    </tr>\n",
       "    <tr>\n",
       "      <th>1</th>\n",
       "      <td>2</td>\n",
       "      <td>1</td>\n",
       "      <td>1</td>\n",
       "      <td>Cumings, Mrs. John Bradley (Florence Briggs Th...</td>\n",
       "      <td>female</td>\n",
       "      <td>38.0</td>\n",
       "      <td>71.2833</td>\n",
       "      <td>Cherbourg</td>\n",
       "    </tr>\n",
       "    <tr>\n",
       "      <th>2</th>\n",
       "      <td>3</td>\n",
       "      <td>1</td>\n",
       "      <td>3</td>\n",
       "      <td>Heikkinen, Miss. Laina</td>\n",
       "      <td>female</td>\n",
       "      <td>26.0</td>\n",
       "      <td>7.9250</td>\n",
       "      <td>Southhampton</td>\n",
       "    </tr>\n",
       "    <tr>\n",
       "      <th>3</th>\n",
       "      <td>4</td>\n",
       "      <td>1</td>\n",
       "      <td>1</td>\n",
       "      <td>Futrelle, Mrs. Jacques Heath (Lily May Peel)</td>\n",
       "      <td>female</td>\n",
       "      <td>35.0</td>\n",
       "      <td>53.1000</td>\n",
       "      <td>Southhampton</td>\n",
       "    </tr>\n",
       "    <tr>\n",
       "      <th>4</th>\n",
       "      <td>5</td>\n",
       "      <td>0</td>\n",
       "      <td>3</td>\n",
       "      <td>Allen, Mr. William Henry</td>\n",
       "      <td>male</td>\n",
       "      <td>35.0</td>\n",
       "      <td>8.0500</td>\n",
       "      <td>Southhampton</td>\n",
       "    </tr>\n",
       "  </tbody>\n",
       "</table>\n",
       "</div>"
      ],
      "text/plain": [
       "   PassengerId  Survived  Pclass  \\\n",
       "0            1         0       3   \n",
       "1            2         1       1   \n",
       "2            3         1       3   \n",
       "3            4         1       1   \n",
       "4            5         0       3   \n",
       "\n",
       "                                                Name     Sex   Age     Fare  \\\n",
       "0                            Braund, Mr. Owen Harris    male  22.0   7.2500   \n",
       "1  Cumings, Mrs. John Bradley (Florence Briggs Th...  female  38.0  71.2833   \n",
       "2                             Heikkinen, Miss. Laina  female  26.0   7.9250   \n",
       "3       Futrelle, Mrs. Jacques Heath (Lily May Peel)  female  35.0  53.1000   \n",
       "4                           Allen, Mr. William Henry    male  35.0   8.0500   \n",
       "\n",
       "       Embarked  \n",
       "0  Southhampton  \n",
       "1     Cherbourg  \n",
       "2  Southhampton  \n",
       "3  Southhampton  \n",
       "4  Southhampton  "
      ]
     },
     "execution_count": 11,
     "metadata": {},
     "output_type": "execute_result"
    }
   ],
   "source": [
    "titanic.head()"
   ]
  },
  {
   "cell_type": "code",
   "execution_count": 14,
   "metadata": {
    "id": "Qh8S5zkJtnjY"
   },
   "outputs": [
    {
     "data": {
      "text/html": [
       "<div>\n",
       "<style scoped>\n",
       "    .dataframe tbody tr th:only-of-type {\n",
       "        vertical-align: middle;\n",
       "    }\n",
       "\n",
       "    .dataframe tbody tr th {\n",
       "        vertical-align: top;\n",
       "    }\n",
       "\n",
       "    .dataframe thead th {\n",
       "        text-align: right;\n",
       "    }\n",
       "</style>\n",
       "<table border=\"1\" class=\"dataframe\">\n",
       "  <thead>\n",
       "    <tr style=\"text-align: right;\">\n",
       "      <th></th>\n",
       "      <th>PassengerId</th>\n",
       "      <th>Survived</th>\n",
       "      <th>Pclass</th>\n",
       "      <th>Age</th>\n",
       "      <th>Fare</th>\n",
       "    </tr>\n",
       "  </thead>\n",
       "  <tbody>\n",
       "    <tr>\n",
       "      <th>count</th>\n",
       "      <td>891.000000</td>\n",
       "      <td>891.000000</td>\n",
       "      <td>891.000000</td>\n",
       "      <td>714.000000</td>\n",
       "      <td>891.000000</td>\n",
       "    </tr>\n",
       "    <tr>\n",
       "      <th>mean</th>\n",
       "      <td>446.000000</td>\n",
       "      <td>0.383838</td>\n",
       "      <td>2.308642</td>\n",
       "      <td>29.699118</td>\n",
       "      <td>32.204208</td>\n",
       "    </tr>\n",
       "    <tr>\n",
       "      <th>std</th>\n",
       "      <td>257.353842</td>\n",
       "      <td>0.486592</td>\n",
       "      <td>0.836071</td>\n",
       "      <td>14.526497</td>\n",
       "      <td>49.693429</td>\n",
       "    </tr>\n",
       "    <tr>\n",
       "      <th>min</th>\n",
       "      <td>1.000000</td>\n",
       "      <td>0.000000</td>\n",
       "      <td>1.000000</td>\n",
       "      <td>0.420000</td>\n",
       "      <td>0.000000</td>\n",
       "    </tr>\n",
       "    <tr>\n",
       "      <th>25%</th>\n",
       "      <td>223.500000</td>\n",
       "      <td>0.000000</td>\n",
       "      <td>2.000000</td>\n",
       "      <td>20.125000</td>\n",
       "      <td>7.910400</td>\n",
       "    </tr>\n",
       "    <tr>\n",
       "      <th>50%</th>\n",
       "      <td>446.000000</td>\n",
       "      <td>0.000000</td>\n",
       "      <td>3.000000</td>\n",
       "      <td>28.000000</td>\n",
       "      <td>14.454200</td>\n",
       "    </tr>\n",
       "    <tr>\n",
       "      <th>75%</th>\n",
       "      <td>668.500000</td>\n",
       "      <td>1.000000</td>\n",
       "      <td>3.000000</td>\n",
       "      <td>38.000000</td>\n",
       "      <td>31.000000</td>\n",
       "    </tr>\n",
       "    <tr>\n",
       "      <th>max</th>\n",
       "      <td>891.000000</td>\n",
       "      <td>1.000000</td>\n",
       "      <td>3.000000</td>\n",
       "      <td>80.000000</td>\n",
       "      <td>512.329200</td>\n",
       "    </tr>\n",
       "  </tbody>\n",
       "</table>\n",
       "</div>"
      ],
      "text/plain": [
       "       PassengerId    Survived      Pclass         Age        Fare\n",
       "count   891.000000  891.000000  891.000000  714.000000  891.000000\n",
       "mean    446.000000    0.383838    2.308642   29.699118   32.204208\n",
       "std     257.353842    0.486592    0.836071   14.526497   49.693429\n",
       "min       1.000000    0.000000    1.000000    0.420000    0.000000\n",
       "25%     223.500000    0.000000    2.000000   20.125000    7.910400\n",
       "50%     446.000000    0.000000    3.000000   28.000000   14.454200\n",
       "75%     668.500000    1.000000    3.000000   38.000000   31.000000\n",
       "max     891.000000    1.000000    3.000000   80.000000  512.329200"
      ]
     },
     "execution_count": 14,
     "metadata": {},
     "output_type": "execute_result"
    }
   ],
   "source": [
    "# 데이터프레임의 숫자타입 변수들 기초통계량 조회, 범주형 제외\n",
    "titanic.describe()\n",
    "#일련번호는 숫자형도 범주형도 아니다\n",
    "#그냥 인덱스같은 역할?\n",
    "#평균값은 결측치를 제외하고 계산한다."
   ]
  },
  {
   "cell_type": "code",
   "execution_count": 13,
   "metadata": {
    "collapsed": true,
    "id": "n3lHKRozvgTO",
    "jupyter": {
     "outputs_hidden": true
    },
    "tags": []
   },
   "outputs": [
    {
     "data": {
      "text/html": [
       "<div>\n",
       "<style scoped>\n",
       "    .dataframe tbody tr th:only-of-type {\n",
       "        vertical-align: middle;\n",
       "    }\n",
       "\n",
       "    .dataframe tbody tr th {\n",
       "        vertical-align: top;\n",
       "    }\n",
       "\n",
       "    .dataframe thead th {\n",
       "        text-align: right;\n",
       "    }\n",
       "</style>\n",
       "<table border=\"1\" class=\"dataframe\">\n",
       "  <thead>\n",
       "    <tr style=\"text-align: right;\">\n",
       "      <th></th>\n",
       "      <th>PassengerId</th>\n",
       "      <th>Survived</th>\n",
       "      <th>Pclass</th>\n",
       "      <th>Name</th>\n",
       "      <th>Sex</th>\n",
       "      <th>Age</th>\n",
       "      <th>Fare</th>\n",
       "      <th>Embarked</th>\n",
       "    </tr>\n",
       "  </thead>\n",
       "  <tbody>\n",
       "    <tr>\n",
       "      <th>count</th>\n",
       "      <td>891.000000</td>\n",
       "      <td>891.000000</td>\n",
       "      <td>891.000000</td>\n",
       "      <td>891</td>\n",
       "      <td>891</td>\n",
       "      <td>714.000000</td>\n",
       "      <td>891.000000</td>\n",
       "      <td>889</td>\n",
       "    </tr>\n",
       "    <tr>\n",
       "      <th>unique</th>\n",
       "      <td>NaN</td>\n",
       "      <td>NaN</td>\n",
       "      <td>NaN</td>\n",
       "      <td>891</td>\n",
       "      <td>2</td>\n",
       "      <td>NaN</td>\n",
       "      <td>NaN</td>\n",
       "      <td>3</td>\n",
       "    </tr>\n",
       "    <tr>\n",
       "      <th>top</th>\n",
       "      <td>NaN</td>\n",
       "      <td>NaN</td>\n",
       "      <td>NaN</td>\n",
       "      <td>Braund, Mr. Owen Harris</td>\n",
       "      <td>male</td>\n",
       "      <td>NaN</td>\n",
       "      <td>NaN</td>\n",
       "      <td>Southhampton</td>\n",
       "    </tr>\n",
       "    <tr>\n",
       "      <th>freq</th>\n",
       "      <td>NaN</td>\n",
       "      <td>NaN</td>\n",
       "      <td>NaN</td>\n",
       "      <td>1</td>\n",
       "      <td>577</td>\n",
       "      <td>NaN</td>\n",
       "      <td>NaN</td>\n",
       "      <td>644</td>\n",
       "    </tr>\n",
       "    <tr>\n",
       "      <th>mean</th>\n",
       "      <td>446.000000</td>\n",
       "      <td>0.383838</td>\n",
       "      <td>2.308642</td>\n",
       "      <td>NaN</td>\n",
       "      <td>NaN</td>\n",
       "      <td>29.699118</td>\n",
       "      <td>32.204208</td>\n",
       "      <td>NaN</td>\n",
       "    </tr>\n",
       "    <tr>\n",
       "      <th>std</th>\n",
       "      <td>257.353842</td>\n",
       "      <td>0.486592</td>\n",
       "      <td>0.836071</td>\n",
       "      <td>NaN</td>\n",
       "      <td>NaN</td>\n",
       "      <td>14.526497</td>\n",
       "      <td>49.693429</td>\n",
       "      <td>NaN</td>\n",
       "    </tr>\n",
       "    <tr>\n",
       "      <th>min</th>\n",
       "      <td>1.000000</td>\n",
       "      <td>0.000000</td>\n",
       "      <td>1.000000</td>\n",
       "      <td>NaN</td>\n",
       "      <td>NaN</td>\n",
       "      <td>0.420000</td>\n",
       "      <td>0.000000</td>\n",
       "      <td>NaN</td>\n",
       "    </tr>\n",
       "    <tr>\n",
       "      <th>25%</th>\n",
       "      <td>223.500000</td>\n",
       "      <td>0.000000</td>\n",
       "      <td>2.000000</td>\n",
       "      <td>NaN</td>\n",
       "      <td>NaN</td>\n",
       "      <td>20.125000</td>\n",
       "      <td>7.910400</td>\n",
       "      <td>NaN</td>\n",
       "    </tr>\n",
       "    <tr>\n",
       "      <th>50%</th>\n",
       "      <td>446.000000</td>\n",
       "      <td>0.000000</td>\n",
       "      <td>3.000000</td>\n",
       "      <td>NaN</td>\n",
       "      <td>NaN</td>\n",
       "      <td>28.000000</td>\n",
       "      <td>14.454200</td>\n",
       "      <td>NaN</td>\n",
       "    </tr>\n",
       "    <tr>\n",
       "      <th>75%</th>\n",
       "      <td>668.500000</td>\n",
       "      <td>1.000000</td>\n",
       "      <td>3.000000</td>\n",
       "      <td>NaN</td>\n",
       "      <td>NaN</td>\n",
       "      <td>38.000000</td>\n",
       "      <td>31.000000</td>\n",
       "      <td>NaN</td>\n",
       "    </tr>\n",
       "    <tr>\n",
       "      <th>max</th>\n",
       "      <td>891.000000</td>\n",
       "      <td>1.000000</td>\n",
       "      <td>3.000000</td>\n",
       "      <td>NaN</td>\n",
       "      <td>NaN</td>\n",
       "      <td>80.000000</td>\n",
       "      <td>512.329200</td>\n",
       "      <td>NaN</td>\n",
       "    </tr>\n",
       "  </tbody>\n",
       "</table>\n",
       "</div>"
      ],
      "text/plain": [
       "        PassengerId    Survived      Pclass                     Name   Sex  \\\n",
       "count    891.000000  891.000000  891.000000                      891   891   \n",
       "unique          NaN         NaN         NaN                      891     2   \n",
       "top             NaN         NaN         NaN  Braund, Mr. Owen Harris  male   \n",
       "freq            NaN         NaN         NaN                        1   577   \n",
       "mean     446.000000    0.383838    2.308642                      NaN   NaN   \n",
       "std      257.353842    0.486592    0.836071                      NaN   NaN   \n",
       "min        1.000000    0.000000    1.000000                      NaN   NaN   \n",
       "25%      223.500000    0.000000    2.000000                      NaN   NaN   \n",
       "50%      446.000000    0.000000    3.000000                      NaN   NaN   \n",
       "75%      668.500000    1.000000    3.000000                      NaN   NaN   \n",
       "max      891.000000    1.000000    3.000000                      NaN   NaN   \n",
       "\n",
       "               Age        Fare      Embarked  \n",
       "count   714.000000  891.000000           889  \n",
       "unique         NaN         NaN             3  \n",
       "top            NaN         NaN  Southhampton  \n",
       "freq           NaN         NaN           644  \n",
       "mean     29.699118   32.204208           NaN  \n",
       "std      14.526497   49.693429           NaN  \n",
       "min       0.420000    0.000000           NaN  \n",
       "25%      20.125000    7.910400           NaN  \n",
       "50%      28.000000   14.454200           NaN  \n",
       "75%      38.000000   31.000000           NaN  \n",
       "max      80.000000  512.329200           NaN  "
      ]
     },
     "execution_count": 13,
     "metadata": {},
     "output_type": "execute_result"
    }
   ],
   "source": [
    "# 데이터프레임의 전체 변수들 기초통계량 조회\n",
    "titanic.describe(include='all')"
   ]
  },
  {
   "cell_type": "markdown",
   "metadata": {
    "id": "qAR8eFUZtyKL"
   },
   "source": [
    "<img src='https://raw.githubusercontent.com/jangrae/img/master/practice_01.png' width=120 align=\"left\"/>"
   ]
  },
  {
   "cell_type": "markdown",
   "metadata": {
    "id": "mHOo1HeItupI"
   },
   "source": [
    "air 데이터프레임에 대해서 기초 통계량을 구하고, 내용을 파악해 봅시다."
   ]
  },
  {
   "cell_type": "code",
   "execution_count": 14,
   "metadata": {
    "id": "whnWHI5XnWcW"
   },
   "outputs": [
    {
     "data": {
      "text/html": [
       "<div>\n",
       "<style scoped>\n",
       "    .dataframe tbody tr th:only-of-type {\n",
       "        vertical-align: middle;\n",
       "    }\n",
       "\n",
       "    .dataframe tbody tr th {\n",
       "        vertical-align: top;\n",
       "    }\n",
       "\n",
       "    .dataframe thead th {\n",
       "        text-align: right;\n",
       "    }\n",
       "</style>\n",
       "<table border=\"1\" class=\"dataframe\">\n",
       "  <thead>\n",
       "    <tr style=\"text-align: right;\">\n",
       "      <th></th>\n",
       "      <th>Ozone</th>\n",
       "      <th>Solar.R</th>\n",
       "      <th>Wind</th>\n",
       "      <th>Temp</th>\n",
       "    </tr>\n",
       "  </thead>\n",
       "  <tbody>\n",
       "    <tr>\n",
       "      <th>count</th>\n",
       "      <td>153.000000</td>\n",
       "      <td>146.000000</td>\n",
       "      <td>153.000000</td>\n",
       "      <td>153.000000</td>\n",
       "    </tr>\n",
       "    <tr>\n",
       "      <th>mean</th>\n",
       "      <td>42.052288</td>\n",
       "      <td>185.931507</td>\n",
       "      <td>9.957516</td>\n",
       "      <td>77.882353</td>\n",
       "    </tr>\n",
       "    <tr>\n",
       "      <th>std</th>\n",
       "      <td>30.156127</td>\n",
       "      <td>90.058422</td>\n",
       "      <td>3.523001</td>\n",
       "      <td>9.465270</td>\n",
       "    </tr>\n",
       "    <tr>\n",
       "      <th>min</th>\n",
       "      <td>1.000000</td>\n",
       "      <td>7.000000</td>\n",
       "      <td>1.700000</td>\n",
       "      <td>56.000000</td>\n",
       "    </tr>\n",
       "    <tr>\n",
       "      <th>25%</th>\n",
       "      <td>20.000000</td>\n",
       "      <td>115.750000</td>\n",
       "      <td>7.400000</td>\n",
       "      <td>72.000000</td>\n",
       "    </tr>\n",
       "    <tr>\n",
       "      <th>50%</th>\n",
       "      <td>34.000000</td>\n",
       "      <td>205.000000</td>\n",
       "      <td>9.700000</td>\n",
       "      <td>79.000000</td>\n",
       "    </tr>\n",
       "    <tr>\n",
       "      <th>75%</th>\n",
       "      <td>59.000000</td>\n",
       "      <td>258.750000</td>\n",
       "      <td>11.500000</td>\n",
       "      <td>85.000000</td>\n",
       "    </tr>\n",
       "    <tr>\n",
       "      <th>max</th>\n",
       "      <td>168.000000</td>\n",
       "      <td>334.000000</td>\n",
       "      <td>20.700000</td>\n",
       "      <td>97.000000</td>\n",
       "    </tr>\n",
       "  </tbody>\n",
       "</table>\n",
       "</div>"
      ],
      "text/plain": [
       "            Ozone     Solar.R        Wind        Temp\n",
       "count  153.000000  146.000000  153.000000  153.000000\n",
       "mean    42.052288  185.931507    9.957516   77.882353\n",
       "std     30.156127   90.058422    3.523001    9.465270\n",
       "min      1.000000    7.000000    1.700000   56.000000\n",
       "25%     20.000000  115.750000    7.400000   72.000000\n",
       "50%     34.000000  205.000000    9.700000   79.000000\n",
       "75%     59.000000  258.750000   11.500000   85.000000\n",
       "max    168.000000  334.000000   20.700000   97.000000"
      ]
     },
     "execution_count": 14,
     "metadata": {},
     "output_type": "execute_result"
    }
   ],
   "source": [
    "air.describe()"
   ]
  },
  {
   "cell_type": "markdown",
   "metadata": {
    "id": "ns16E4en01BV"
   },
   "source": [
    "## (3) 시각화"
   ]
  },
  {
   "cell_type": "markdown",
   "metadata": {
    "id": "3ltaI0D3qko9"
   },
   "source": [
    "### 1) 히스토그램"
   ]
  },
  {
   "cell_type": "markdown",
   "metadata": {
    "id": "4KZZvJ3i3EE9"
   },
   "source": [
    "* 히스토그램 기본"
   ]
  },
  {
   "cell_type": "code",
   "execution_count": 18,
   "metadata": {
    "id": "wlrmY8hLOdH3"
   },
   "outputs": [
    {
     "data": {
      "image/png": "[encoded data removed]",
      "text/plain": [
       "<Figure size 640x480 with 1 Axes>"
      ]
     },
     "metadata": {},
     "output_type": "display_data"
    }
   ],
   "source": [
    "plt.hist(titanic[\"Fare\"], bins = 100, edgecolor = 'gray')\n",
    "plt.xlabel('Fare')\n",
    "plt.ylabel('Frequency')\n",
    "# plt.xlim(0, 100) #오캄의 면도날 예 - 간단하게 할 수 있으면 복잡하게 하지 말자.\n",
    "plt.show()"
   ]
  },
  {
   "cell_type": "markdown",
   "metadata": {
    "id": "h9wak3_f3MeE"
   },
   "source": [
    "* 구간의 갯수를 조정해 봅시다."
   ]
  },
  {
   "cell_type": "code",
   "execution_count": 19,
   "metadata": {
    "id": "pFedUYxT3MQU"
   },
   "outputs": [
    {
     "data": {
      "image/png": "[encoded data removed]",
      "text/plain": [
       "<Figure size 640x480 with 1 Axes>"
      ]
     },
     "metadata": {},
     "output_type": "display_data"
    }
   ],
   "source": [
    "plt.hist(titanic.Fare, bins = 30, edgecolor = 'gray')\n",
    "plt.xlabel('Fare')\n",
    "plt.ylabel('Frequency')\n",
    "plt.show()"
   ]
  },
  {
   "cell_type": "markdown",
   "metadata": {
    "id": "SAk5ntjik8lO"
   },
   "source": [
    "* sns.histplot"
   ]
  },
  {
   "cell_type": "code",
   "execution_count": 20,
   "metadata": {
    "id": "WFY4lWf6lAwj"
   },
   "outputs": [
    {
     "data": {
      "image/png": "[encoded data removed]",
      "text/plain": [
       "<Figure size 640x480 with 1 Axes>"
      ]
     },
     "metadata": {},
     "output_type": "display_data"
    }
   ],
   "source": [
    "sns.histplot(x = 'Fare', data = titanic, bins = 20)\n",
    "plt.show()"
   ]
  },
  {
   "cell_type": "markdown",
   "metadata": {
    "id": "i2xDqKU93SiE"
   },
   "source": [
    "* (추가)구간 값과 갯수를 확인해 봅시다.\n",
    "\n",
    "    * 결과를 저장하면, 구간과 빈도수를 확인할 수 있습니다.\n",
    "        * 히스토그램을 저장하면 튜플.\n",
    "        * 튜플 안에는 넘파이 어레이가 2개로 구성됨.\n",
    "        * 첫번째 넘파이 어레이는 빈도수,\n",
    "        * 두번째는 구간 값.\n"
   ]
  },
  {
   "cell_type": "code",
   "execution_count": 37,
   "metadata": {
    "id": "H-MI8MQJ3SzL"
   },
   "outputs": [
    {
     "data": {
      "image/png": "[encoded data removed]",
      "text/plain": [
       "<Figure size 640x480 with 1 Axes>"
      ]
     },
     "metadata": {},
     "output_type": "display_data"
    },
    {
     "name": "stdout",
     "output_type": "stream",
     "text": [
      "(array([838.,  33.,  17.,   0.,   3.]), array([  0.     , 102.46584, 204.93168, 307.39752, 409.86336, 512.3292 ]), <BarContainer object of 5 artists>)\n",
      "<class 'tuple'>\n",
      "--------------------------------------------------\n",
      "빈도수 :  [838.  33.  17.   0.   3.]\n",
      "구간값 :  [  0.      102.46584 204.93168 307.39752 409.86336 512.3292 ]\n"
     ]
    }
   ],
   "source": [
    "hist1 = plt.hist(titanic.Fare, bins = 5, edgecolor = 'gray')\n",
    "plt.show()\n",
    "\n",
    "print(hist1)\n",
    "print(type(hist1))\n",
    "print('-' * 50)\n",
    "print('빈도수 : ', hist1[0])\n",
    "print('구간값 : ', hist1[1])"
   ]
  },
  {
   "cell_type": "markdown",
   "metadata": {
    "id": "betG2EyvqaVa"
   },
   "source": [
    "<img src='https://raw.githubusercontent.com/jangrae/img/master/practice_01.png' width=120 align=\"left\"/>"
   ]
  },
  {
   "cell_type": "markdown",
   "metadata": {
    "id": "08DqWe7ByVgf"
   },
   "source": [
    "[문제1] titanic의 Age에 칼럼에 대해 히스토그램을 그려 봅시다.\n",
    "* bins = 8, 16, 32, 64"
   ]
  },
  {
   "cell_type": "code",
   "execution_count": 21,
   "metadata": {
    "id": "JR4eHakr3aQl"
   },
   "outputs": [
    {
     "data": {
      "image/png": "[encoded data removed]",
      "text/plain": [
       "<Figure size 800x600 with 4 Axes>"
      ]
     },
     "metadata": {},
     "output_type": "display_data"
    }
   ],
   "source": [
    "plt.figure(figsize = (8, 6))\n",
    "plt.subplot(2, 2, 1)\n",
    "sns.histplot(x = \"Age\", data = titanic, bins = 8)\n",
    "\n",
    "plt.subplot(2, 2, 2)\n",
    "sns.histplot(x = \"Age\", data = titanic, bins = 16)\n",
    "\n",
    "plt.subplot(2, 2, 3)\n",
    "sns.histplot(x = \"Age\", data = titanic, bins = 32)\n",
    "\n",
    "plt.subplot(2, 2, 4)\n",
    "sns.histplot(x = \"Age\", data = titanic, bins = 64)\n",
    "\n",
    "plt.show()"
   ]
  },
  {
   "cell_type": "markdown",
   "metadata": {
    "id": "CxLmBFLdycQ6"
   },
   "source": [
    "[문제2] (추가) Age에 칼럼에 대해 히스토그램을 그릴때, 빈도수와 구간값을 살펴 봅시다.\n",
    "* bins = 8"
   ]
  },
  {
   "cell_type": "code",
   "execution_count": null,
   "metadata": {
    "id": "WXIL2Na330T8"
   },
   "outputs": [],
   "source": []
  },
  {
   "cell_type": "markdown",
   "metadata": {
    "id": "7WD0PB06xCEs"
   },
   "source": [
    "### 2) 밀도함수 그래프(kde plot)"
   ]
  },
  {
   "cell_type": "markdown",
   "metadata": {
    "id": "KXT5Yh08yxl5"
   },
   "source": [
    "* 히스토그램의 단점 \n",
    "    * 구간(bin)의 너비를 어떻게 잡는지에 따라 전혀 다른 모양이 될 수 있음\n",
    "\n",
    "* 밀도함수 그래프\n",
    "    * 막대의 너비를 가정하지 않고 모든 점에서 데이터의 밀도를 추정하는 커널 밀도 추정(Kernel Density Estimation)방식을 사용하여 이러한 단점을 해결.\n",
    "    * 밀도함수 그래프 아래 면적은 1"
   ]
  },
  {
   "cell_type": "markdown",
   "metadata": {
    "id": "JFscPQ-v4HRc"
   },
   "source": [
    "* 밀도함수 그래프 그리기"
   ]
  },
  {
   "cell_type": "code",
   "execution_count": 23,
   "metadata": {
    "id": "2lEXL_yx18g3"
   },
   "outputs": [
    {
     "data": {
      "image/png": "[encoded data removed]",
      "text/plain": [
       "<Figure size 640x480 with 1 Axes>"
      ]
     },
     "metadata": {},
     "output_type": "display_data"
    }
   ],
   "source": [
    "# sns.kdeplot(titanic['Fare'])\n",
    "sns.kdeplot(x='Fare', data = titanic) #이걸 많이 사용한다!!!!!!!!!!!!!!!\n",
    "\n",
    "plt.show()"
   ]
  },
  {
   "cell_type": "markdown",
   "metadata": {
    "id": "JdYKN2PVzCIo"
   },
   "source": [
    "* 밀도 추정\n",
    "    * 측정된(관측된) 데이터로부터 전체 데이터 분포의 특성을 추정\n",
    "    * 예를 들어… OO역 사거리 일일 교통량을 측정한다고 해 봅시다.\n",
    "        * 어제는 1200대 차량이 통과했고, 오늘은 1420대, 내일은, 모레는…\n",
    "        * 이렇게 3개월간 매일 측정했다고 할 때, \n",
    "        * 우리는 약 90일치의 데이터를 가지고 일일 교통량 분포를 히스토그램으로 그려볼 수 있습니다. \n",
    "        * 그리고 나서 특정한 날의 교통량이 얼마나 될지 확률로 나타냄.\n",
    "\n"
   ]
  },
  {
   "cell_type": "markdown",
   "metadata": {
    "id": "TBG55rd-zT68"
   },
   "source": [
    "<img src='https://github.com/DA4BAM/image/blob/main/%EB%B0%80%EB%8F%84%EC%B6%94%EC%A0%95.png?raw=true' width=800/>"
   ]
  },
  {
   "cell_type": "markdown",
   "metadata": {
    "id": "a06mPcY34O1D"
   },
   "source": [
    "<img src='https://raw.githubusercontent.com/jangrae/img/master/practice_01.png' width=120 align=\"left\"/>"
   ]
  },
  {
   "cell_type": "markdown",
   "metadata": {
    "id": "4lF6xU5s2N0J"
   },
   "source": [
    "[문1] titanic Age에 대해서 밀도함수 그래프를 그려봅시다.  \n",
    "\n",
    "히스토그램과 어떤 차이가 있나요?"
   ]
  },
  {
   "cell_type": "code",
   "execution_count": 24,
   "metadata": {},
   "outputs": [
    {
     "data": {
      "image/png": "[encoded data removed]",
      "text/plain": [
       "<Figure size 640x480 with 1 Axes>"
      ]
     },
     "metadata": {},
     "output_type": "display_data"
    }
   ],
   "source": [
    "sns.kdeplot(x = \"Age\", data = titanic)\n",
    "plt.show()"
   ]
  },
  {
   "cell_type": "code",
   "execution_count": 51,
   "metadata": {
    "id": "853Y-KVc4MtM"
   },
   "outputs": [
    {
     "data": {
      "image/png": "[encoded data removed]",
      "text/plain": [
       "<Figure size 640x480 with 1 Axes>"
      ]
     },
     "metadata": {},
     "output_type": "display_data"
    }
   ],
   "source": [
    "plt.hist(\"Age\", data = titanic)\n",
    "plt.show()"
   ]
  },
  {
   "cell_type": "markdown",
   "metadata": {
    "id": "fpWXi5-GIbOm"
   },
   "source": [
    "[문2] titanic Age에 대해서 히스토그램을 그려봅시다. \n",
    "* 단, 이번에는 sns.histplot 을 이용합니다.\n",
    "* 옵션으로 kde = True 를 지정해 봅시다."
   ]
  },
  {
   "cell_type": "code",
   "execution_count": 54,
   "metadata": {
    "id": "mP2uVOXyIl7k"
   },
   "outputs": [
    {
     "data": {
      "image/png": "[encoded data removed]",
      "text/plain": [
       "<Figure size 640x480 with 1 Axes>"
      ]
     },
     "metadata": {},
     "output_type": "display_data"
    }
   ],
   "source": [
    "sns.histplot(x = \"Age\", data = titanic, kde = True)\n",
    "plt.show()"
   ]
  },
  {
   "cell_type": "markdown",
   "metadata": {
    "id": "v54-dA2sx13e"
   },
   "source": [
    "### 3) boxplot\n",
    "\n",
    "**주의사항** : 값에 **NaN**이 있으면 그래프가 그려지지 않습니다."
   ]
  },
  {
   "cell_type": "markdown",
   "metadata": {
    "id": "CB_qkeT74k3V"
   },
   "source": [
    "* boxplot 기본"
   ]
  },
  {
   "cell_type": "code",
   "execution_count": 56,
   "metadata": {
    "id": "S2pqAXLzpYwl"
   },
   "outputs": [],
   "source": [
    "# titanic['Age']에는 NaN이 있습니다. 이를 제외한 데이터\n",
    "temp = titanic.loc[titanic['Age'].notnull()] #null이 아닌 애들만 뽑아서 temp에 넣어서 boxplot 그려라"
   ]
  },
  {
   "cell_type": "code",
   "execution_count": 57,
   "metadata": {
    "id": "J0lJsVIbx13f"
   },
   "outputs": [
    {
     "data": {
      "image/png": "[encoded data removed]",
      "text/plain": [
       "<Figure size 640x480 with 1 Axes>"
      ]
     },
     "metadata": {},
     "output_type": "display_data"
    }
   ],
   "source": [
    "plt.boxplot(temp['Age'])\n",
    "plt.grid()\n",
    "plt.show()"
   ]
  },
  {
   "cell_type": "markdown",
   "metadata": {
    "id": "SiMIvvaD4pDs"
   },
   "source": [
    "* 옆으로 그리기"
   ]
  },
  {
   "cell_type": "code",
   "execution_count": 58,
   "metadata": {
    "id": "5xFcYt9U4pYV"
   },
   "outputs": [
    {
     "data": {
      "image/png": "[encoded data removed]",
      "text/plain": [
       "<Figure size 640x480 with 1 Axes>"
      ]
     },
     "metadata": {},
     "output_type": "display_data"
    }
   ],
   "source": [
    "plt.boxplot(temp['Age'], vert = False)\n",
    "plt.grid()\n",
    "plt.show()"
   ]
  },
  {
   "cell_type": "markdown",
   "metadata": {
    "id": "0PsazLkWrVMC"
   },
   "source": [
    "* sns.boxplot\n",
    "    * seaborn 패키지 함수들은 NaN을 알아서 빼줍니다."
   ]
  },
  {
   "cell_type": "code",
   "execution_count": 25,
   "metadata": {
    "id": "yn7NUL2HrVMC"
   },
   "outputs": [
    {
     "data": {
      "image/png": "[encoded data removed]",
      "text/plain": [
       "<Figure size 640x480 with 1 Axes>"
      ]
     },
     "metadata": {},
     "output_type": "display_data"
    }
   ],
   "source": [
    "sns.boxplot(x = titanic['Age'])\n",
    "plt.grid()\n",
    "plt.show()"
   ]
  },
  {
   "cell_type": "code",
   "execution_count": 26,
   "metadata": {},
   "outputs": [
    {
     "data": {
      "text/plain": [
       "count    714.000000\n",
       "mean      29.699118\n",
       "std       14.526497\n",
       "min        0.420000\n",
       "25%       20.125000\n",
       "50%       28.000000\n",
       "75%       38.000000\n",
       "max       80.000000\n",
       "Name: Age, dtype: float64"
      ]
     },
     "execution_count": 26,
     "metadata": {},
     "output_type": "execute_result"
    }
   ],
   "source": [
    "titanic[\"Age\"].describe()"
   ]
  },
  {
   "cell_type": "code",
   "execution_count": 27,
   "metadata": {
    "id": "xijbvzrPrfUv"
   },
   "outputs": [
    {
     "data": {
      "image/png": "[encoded data removed]",
      "text/plain": [
       "<Figure size 640x480 with 1 Axes>"
      ]
     },
     "metadata": {},
     "output_type": "display_data"
    }
   ],
   "source": [
    "sns.boxplot(y = titanic['Age'])\n",
    "plt.grid()\n",
    "plt.show()"
   ]
  },
  {
   "cell_type": "markdown",
   "metadata": {
    "id": "hc8ZKlF3znVP"
   },
   "source": [
    "**박스플롯의 의미**"
   ]
  },
  {
   "cell_type": "markdown",
   "metadata": {
    "id": "L2HVozzrzroc"
   },
   "source": [
    "<img src='https://github.com/DA4BAM/image/blob/main/%EB%B0%95%EC%8A%A4%ED%94%8C%EB%A1%AF1.png?raw=true' width=600/>"
   ]
  },
  {
   "cell_type": "markdown",
   "metadata": {
    "id": "cA2QFJEkzrlI"
   },
   "source": [
    "<img src='https://github.com/DA4BAM/image/blob/main/%EB%B0%95%EC%8A%A4%ED%94%8C%EB%A1%AF2.png?raw=true' width=800/>\n"
   ]
  },
  {
   "cell_type": "markdown",
   "metadata": {
    "id": "DFbCPjcL4wxk"
   },
   "source": [
    "* (추가) 박스플롯의 값들 가져오기"
   ]
  },
  {
   "cell_type": "code",
   "execution_count": 28,
   "metadata": {
    "id": "Ov0c3doC4xHj"
   },
   "outputs": [
    {
     "data": {
      "image/png": "[encoded data removed]",
      "text/plain": [
       "<Figure size 640x480 with 1 Axes>"
      ]
     },
     "metadata": {},
     "output_type": "display_data"
    },
    {
     "name": "stdout",
     "output_type": "stream",
     "text": [
      "<class 'dict'>\n",
      "dict_keys(['whiskers', 'caps', 'boxes', 'medians', 'fliers', 'means'])\n",
      "--------------------------------------------------\n",
      "[<matplotlib.lines.Line2D object at 0x000002453F12B5B0>, <matplotlib.lines.Line2D object at 0x000002453F12B8B0>]\n",
      "[24. 19.]\n",
      "[32.25 38.  ]\n"
     ]
    }
   ],
   "source": [
    "age = [19,20,23,46,21,25,26,25,28,31,37,24,28,34,38,33,32,29,27,24]\n",
    "box1 = plt.boxplot(age)\n",
    "plt.show()\n",
    "\n",
    "print(type(box1))\n",
    "print(box1.keys())\n",
    "print('-'* 50)\n",
    "print(box1['whiskers'])\n",
    "print(box1['whiskers'][0].get_ydata()) # 아래쪽 수염의 max, min\n",
    "print(box1['whiskers'][1].get_ydata()) # 위쪽 수염의 min, max"
   ]
  },
  {
   "cell_type": "markdown",
   "metadata": {
    "id": "4MJJgToT5Fll"
   },
   "source": [
    "<img src='https://raw.githubusercontent.com/jangrae/img/master/practice_01.png' width=120 align=\"left\"/>"
   ]
  },
  {
   "cell_type": "markdown",
   "metadata": {
    "id": "W1isQhzG5NWB"
   },
   "source": [
    "[문1] titanic의 Age와 Fare에 대해서 각각 박스 플롯을 그리고 해석해 봅시다."
   ]
  },
  {
   "cell_type": "code",
   "execution_count": 29,
   "metadata": {
    "id": "262l-48d5TTk"
   },
   "outputs": [
    {
     "data": {
      "image/png": "[encoded data removed]",
      "text/plain": [
       "<Figure size 1500x600 with 1 Axes>"
      ]
     },
     "metadata": {},
     "output_type": "display_data"
    }
   ],
   "source": [
    "plt.figure(figsize = (15, 6))\n",
    "sns.boxplot(x = \"Fare\", data = titanic)\n",
    "plt.grid()\n",
    "plt.show()"
   ]
  },
  {
   "cell_type": "code",
   "execution_count": null,
   "metadata": {
    "id": "ToWdzyClOWlB"
   },
   "outputs": [],
   "source": []
  },
  {
   "cell_type": "markdown",
   "metadata": {
    "id": "ZgEbJlmKmAmi"
   },
   "source": [
    "[문2] Age : boxplot의 수염(whiskers)의 길이를 손으로 계산해 봅시다."
   ]
  },
  {
   "cell_type": "code",
   "execution_count": null,
   "metadata": {
    "id": "vboQopK732Tp"
   },
   "outputs": [],
   "source": []
  },
  {
   "cell_type": "markdown",
   "metadata": {
    "id": "GDsv14de5wvz"
   },
   "source": [
    "### 4) 시계열 데이터 시각화"
   ]
  },
  {
   "cell_type": "markdown",
   "metadata": {
    "id": "sLzl_oa-58TL"
   },
   "source": [
    "* 시계열 데이터는 보통 시간 축(x축)에 맞게 값들을 라인차트로 표현합니다."
   ]
  },
  {
   "cell_type": "code",
   "execution_count": 30,
   "metadata": {
    "id": "5I9msV-T5wbb"
   },
   "outputs": [
    {
     "data": {
      "image/png": "[encoded data removed]",
      "text/plain": [
       "<Figure size 640x480 with 1 Axes>"
      ]
     },
     "metadata": {},
     "output_type": "display_data"
    }
   ],
   "source": [
    "air['Date'] = pd.to_datetime(air['Date']) # 날짜 형식으로 변환\n",
    "\n",
    "plt.plot('Date', 'Ozone', 'g-', data = air, label = 'Ozone')\n",
    "plt.plot('Date', 'Temp', 'r-', data = air, label = 'Temp')\n",
    "\n",
    "plt.xlabel('Date')\n",
    "plt.legend()\n",
    "plt.show()"
   ]
  },
  {
   "cell_type": "code",
   "execution_count": 64,
   "metadata": {
    "id": "-O-RiinTSN7U"
   },
   "outputs": [
    {
     "data": {
      "text/html": [
       "<div>\n",
       "<style scoped>\n",
       "    .dataframe tbody tr th:only-of-type {\n",
       "        vertical-align: middle;\n",
       "    }\n",
       "\n",
       "    .dataframe tbody tr th {\n",
       "        vertical-align: top;\n",
       "    }\n",
       "\n",
       "    .dataframe thead th {\n",
       "        text-align: right;\n",
       "    }\n",
       "</style>\n",
       "<table border=\"1\" class=\"dataframe\">\n",
       "  <thead>\n",
       "    <tr style=\"text-align: right;\">\n",
       "      <th></th>\n",
       "      <th>Ozone</th>\n",
       "      <th>Solar.R</th>\n",
       "      <th>Wind</th>\n",
       "      <th>Temp</th>\n",
       "      <th>Date</th>\n",
       "    </tr>\n",
       "  </thead>\n",
       "  <tbody>\n",
       "    <tr>\n",
       "      <th>0</th>\n",
       "      <td>41</td>\n",
       "      <td>190.0</td>\n",
       "      <td>7.4</td>\n",
       "      <td>67</td>\n",
       "      <td>1973-05-01</td>\n",
       "    </tr>\n",
       "    <tr>\n",
       "      <th>1</th>\n",
       "      <td>36</td>\n",
       "      <td>118.0</td>\n",
       "      <td>8.0</td>\n",
       "      <td>72</td>\n",
       "      <td>1973-05-02</td>\n",
       "    </tr>\n",
       "    <tr>\n",
       "      <th>2</th>\n",
       "      <td>12</td>\n",
       "      <td>149.0</td>\n",
       "      <td>12.6</td>\n",
       "      <td>74</td>\n",
       "      <td>1973-05-03</td>\n",
       "    </tr>\n",
       "    <tr>\n",
       "      <th>3</th>\n",
       "      <td>18</td>\n",
       "      <td>313.0</td>\n",
       "      <td>11.5</td>\n",
       "      <td>62</td>\n",
       "      <td>1973-05-04</td>\n",
       "    </tr>\n",
       "    <tr>\n",
       "      <th>4</th>\n",
       "      <td>19</td>\n",
       "      <td>NaN</td>\n",
       "      <td>14.3</td>\n",
       "      <td>56</td>\n",
       "      <td>1973-05-05</td>\n",
       "    </tr>\n",
       "  </tbody>\n",
       "</table>\n",
       "</div>"
      ],
      "text/plain": [
       "   Ozone  Solar.R  Wind  Temp       Date\n",
       "0     41    190.0   7.4    67 1973-05-01\n",
       "1     36    118.0   8.0    72 1973-05-02\n",
       "2     12    149.0  12.6    74 1973-05-03\n",
       "3     18    313.0  11.5    62 1973-05-04\n",
       "4     19      NaN  14.3    56 1973-05-05"
      ]
     },
     "execution_count": 64,
     "metadata": {},
     "output_type": "execute_result"
    }
   ],
   "source": [
    "air.head()"
   ]
  },
  {
   "cell_type": "markdown",
   "metadata": {
    "id": "JomH-H3VQ9X9"
   },
   "source": [
    "# 3.범주형 변수"
   ]
  },
  {
   "cell_type": "markdown",
   "metadata": {
    "id": "h1wBK63N7OvI"
   },
   "source": [
    "## (1) 수치화 : 기초통계량"
   ]
  },
  {
   "cell_type": "markdown",
   "metadata": {
    "id": "cQ6NjkCB2C-_"
   },
   "source": [
    "* 범주형 변수는 범주별 빈도수와 비율을 확인합니다.\n",
    "* 리스트.count(‘값’) \n",
    "    * 해당 값이 몇 개 있는지 count 해 줍니다.\n",
    "    * Count를 전체 개수(len(gender))로 나눠주면 비율이 됩니다.\n",
    "    * 그런데, 범주가 두 세 개 정도면, 이렇게 계산하는 게 가능합니다.\n",
    "    * 만약 범주가 10개라면?\n"
   ]
  },
  {
   "cell_type": "code",
   "execution_count": null,
   "metadata": {},
   "outputs": [],
   "source": []
  },
  {
   "cell_type": "markdown",
   "metadata": {
    "id": "sY8hD-EF-2xp"
   },
   "source": [
    "### 1) 범주별 빈도수\n",
    "* .value_counts() : 범주의 개수와 상관 없이 범주 별 개수를 count 해 줍니다."
   ]
  },
  {
   "cell_type": "code",
   "execution_count": 38,
   "metadata": {
    "id": "LKQYHsYN-14z"
   },
   "outputs": [
    {
     "name": "stdout",
     "output_type": "stream",
     "text": [
      "Southhampton    644\n",
      "Cherbourg       168\n",
      "Queenstown       77\n",
      "Name: Embarked, dtype: int64\n",
      "\n",
      "Southhampton    0.722783\n",
      "Cherbourg       0.188552\n",
      "Queenstown      0.086420\n",
      "Name: Embarked, dtype: float64\n"
     ]
    }
   ],
   "source": [
    "print(titanic[\"Embarked\"].value_counts(), end = \"\\n\\n\")\n",
    "print(titanic['Embarked'].value_counts() / titanic.shape[0])"
   ]
  },
  {
   "cell_type": "markdown",
   "metadata": {
    "id": "3uN5uY90RSrv"
   },
   "source": [
    "### 2) 범주별 비율\n",
    "* .value_counts()를 전체 데이터 건수로 나눠줍니다."
   ]
  },
  {
   "cell_type": "code",
   "execution_count": 39,
   "metadata": {
    "id": "6W3ank2MRbse"
   },
   "outputs": [
    {
     "name": "stdout",
     "output_type": "stream",
     "text": [
      "(891, 8)\n",
      "891\n"
     ]
    }
   ],
   "source": [
    "# 전체 데이터 건수 : .shape의 첫번째 값([0])\n",
    "print(titanic.shape)\n",
    "print(titanic.shape[0])"
   ]
  },
  {
   "cell_type": "markdown",
   "metadata": {
    "id": "Py7VPJbcR5p6"
   },
   "source": [
    "데이터프레임의 행, 열의 수를 세는 다양한 방법 : https://rfriend.tistory.com/450"
   ]
  },
  {
   "cell_type": "code",
   "execution_count": 40,
   "metadata": {
    "id": "c8-LirvItX0w"
   },
   "outputs": [
    {
     "data": {
      "text/plain": [
       "3    0.551066\n",
       "1    0.242424\n",
       "2    0.206510\n",
       "Name: Pclass, dtype: float64"
      ]
     },
     "execution_count": 40,
     "metadata": {},
     "output_type": "execute_result"
    }
   ],
   "source": [
    "titanic['Pclass'].value_counts() / titanic.shape[0]"
   ]
  },
  {
   "cell_type": "markdown",
   "metadata": {
    "id": "5yvn-evr2TpT"
   },
   "source": [
    "* titanic['Pclass’] 해석\n",
    "    * .value_counts()를 이용하여 범주별 빈도수와 범주별 비율을 구할수 있습니다.\n",
    "    * 3등급 객실 탑승객이 전체에서 55%를 차지합니다.\n",
    "    * 1등급 객실이 24%, 2등급 객실이 20.7 % \n",
    "\n"
   ]
  },
  {
   "cell_type": "markdown",
   "metadata": {
    "id": "C4UfkJh65kUT"
   },
   "source": [
    "<img src='https://raw.githubusercontent.com/jangrae/img/master/practice_01.png' width=120 align=\"left\"/>"
   ]
  },
  {
   "cell_type": "markdown",
   "metadata": {
    "id": "PJDA8XAS_nlh"
   },
   "source": [
    "[문1] titanic의 Embarked에 대한 기초 통계량을 구하시오."
   ]
  },
  {
   "cell_type": "code",
   "execution_count": 41,
   "metadata": {
    "id": "RuUh8ldh_urh"
   },
   "outputs": [
    {
     "data": {
      "text/plain": [
       "Southhampton    0.722783\n",
       "Cherbourg       0.188552\n",
       "Queenstown      0.086420\n",
       "Name: Embarked, dtype: float64"
      ]
     },
     "execution_count": 41,
     "metadata": {},
     "output_type": "execute_result"
    }
   ],
   "source": [
    "titanic[\"Embarked\"].value_counts() / titanic.shape[0]"
   ]
  },
  {
   "cell_type": "markdown",
   "metadata": {
    "id": "OheyYBJi_z_p"
   },
   "source": [
    "[문2] titanic의 Survived에 대한 기초 통계량을 구하시오."
   ]
  },
  {
   "cell_type": "code",
   "execution_count": 42,
   "metadata": {
    "id": "HlEHcvYH_nb5"
   },
   "outputs": [
    {
     "data": {
      "text/plain": [
       "0    0.616162\n",
       "1    0.383838\n",
       "Name: Survived, dtype: float64"
      ]
     },
     "execution_count": 42,
     "metadata": {},
     "output_type": "execute_result"
    }
   ],
   "source": [
    "titanic[\"Survived\"].value_counts() / titanic.shape[0]"
   ]
  },
  {
   "cell_type": "markdown",
   "metadata": {
    "id": "uvkAWxOX9us8"
   },
   "source": [
    "## (2) 시각화"
   ]
  },
  {
   "cell_type": "markdown",
   "metadata": {
    "id": "rDXTimrr_90B"
   },
   "source": [
    "### 1) bar chart"
   ]
  },
  {
   "cell_type": "markdown",
   "metadata": {
    "id": "5ZsmjDOzFB02"
   },
   "source": [
    "* seaborn의 countplot\n",
    "    * plt.bar() 를 이용하려면 먼저 집계한 후 결과를 가지고 그래프를 그려야 합니다.\n",
    "    * countplot은 집계 + bar plot을 한꺼번에 해결해줍니다!"
   ]
  },
  {
   "cell_type": "code",
   "execution_count": 43,
   "metadata": {},
   "outputs": [
    {
     "name": "stdout",
     "output_type": "stream",
     "text": [
      "0    549\n",
      "1    342\n",
      "Name: Survived, dtype: int64\n",
      "0    0.616162\n",
      "1    0.383838\n",
      "Name: Survived, dtype: float64\n"
     ]
    }
   ],
   "source": [
    "print(titanic[\"Survived\"].value_counts())\n",
    "print(titanic[\"Survived\"].value_counts()/titanic.shape[0])\n",
    "# pd.Categorical()"
   ]
  },
  {
   "cell_type": "code",
   "execution_count": 44,
   "metadata": {
    "id": "61LM30xvFEg1"
   },
   "outputs": [
    {
     "data": {
      "image/png": "[encoded data removed]",
      "text/plain": [
       "<Figure size 640x480 with 1 Axes>"
      ]
     },
     "metadata": {},
     "output_type": "display_data"
    }
   ],
   "source": [
    "sns.countplot(x = titanic['Pclass'])\n",
    "plt.grid()\n",
    "plt.show()"
   ]
  },
  {
   "cell_type": "markdown",
   "metadata": {
    "id": "oVKIYiknAeF0"
   },
   "source": [
    "<img src='https://raw.githubusercontent.com/jangrae/img/master/practice_01.png' width=120 align=\"left\"/>"
   ]
  },
  {
   "cell_type": "markdown",
   "metadata": {
    "id": "6RcIC1kMAeF0"
   },
   "source": [
    "[문1] titanic의 Embarked에 대한 bar chart를 그리시오."
   ]
  },
  {
   "cell_type": "code",
   "execution_count": 45,
   "metadata": {
    "id": "Wxy_-ALkAeF0"
   },
   "outputs": [
    {
     "data": {
      "text/plain": [
       "Southhampton    644\n",
       "Cherbourg       168\n",
       "Queenstown       77\n",
       "Name: Embarked, dtype: int64"
      ]
     },
     "execution_count": 45,
     "metadata": {},
     "output_type": "execute_result"
    }
   ],
   "source": [
    "titanic[\"Embarked\"].value_counts()"
   ]
  },
  {
   "cell_type": "code",
   "execution_count": 46,
   "metadata": {},
   "outputs": [
    {
     "name": "stdout",
     "output_type": "stream",
     "text": [
      "Index(['Southhampton', 'Cherbourg', 'Queenstown'], dtype='object') [644 168  77]\n"
     ]
    }
   ],
   "source": [
    "temp = titanic[\"Embarked\"].value_counts()\n",
    "print(temp.index, temp.values)\n",
    "\n",
    "# plt.bar(x = temp, y )"
   ]
  },
  {
   "cell_type": "code",
   "execution_count": 47,
   "metadata": {
    "id": "Wxy_-ALkAeF0"
   },
   "outputs": [
    {
     "data": {
      "image/png": "[encoded data removed]",
      "text/plain": [
       "<Figure size 640x480 with 1 Axes>"
      ]
     },
     "metadata": {},
     "output_type": "display_data"
    }
   ],
   "source": [
    "sns.countplot(x = titanic[\"Embarked\"])\n",
    "plt.grid()\n",
    "plt.show()"
   ]
  },
  {
   "cell_type": "markdown",
   "metadata": {
    "id": "ypCiFedx_hkk"
   },
   "source": [
    "### 2) (추가) pie chart"
   ]
  },
  {
   "cell_type": "markdown",
   "metadata": {
    "id": "5-8c9xcG2s9z"
   },
   "source": [
    "* 범주별 비율 비교할 때 파이차트 사용.\n",
    "* 역시 먼저 집계를 해야 합니다.\n",
    "* plt.pie( 값, labels=범주이름, autopct = ‘%.2f%%’)\n",
    "    * autopct = ‘%**.2f%**%’ : 그래프에 표시할 값 비율 값에 대한 설정입니다.\n",
    "        * **.2f%** : 소수점 두 자리 퍼센트로 표기 한다는 의미.\n"
   ]
  },
  {
   "cell_type": "markdown",
   "metadata": {
    "id": "SGu4aCTkAwzZ"
   },
   "source": [
    "* pie chart 기본"
   ]
  },
  {
   "cell_type": "code",
   "execution_count": 48,
   "metadata": {
    "id": "kbNvoNKSOdIG"
   },
   "outputs": [
    {
     "data": {
      "image/png": "[encoded data removed]",
      "text/plain": [
       "<Figure size 640x480 with 1 Axes>"
      ]
     },
     "metadata": {},
     "output_type": "display_data"
    }
   ],
   "source": [
    "temp = titanic['Pclass'].value_counts()\n",
    "\n",
    "plt.pie(temp.values, labels = temp.index, autopct = '%.2f%%')\n",
    "plt.show()"
   ]
  },
  {
   "cell_type": "markdown",
   "metadata": {
    "id": "K3WMix48A1ng"
   },
   "source": [
    "* pie chart 꾸미기 1\n",
    "\n",
    "    * 각도와 방향 조정\n",
    "        * startangle = 90 : 90도 부터 시작\n",
    "        * counterclock = False : 시계 방향으로"
   ]
  },
  {
   "cell_type": "code",
   "execution_count": 50,
   "metadata": {
    "id": "tBml4tvzA13Z"
   },
   "outputs": [
    {
     "data": {
      "image/png": "[encoded data removed]",
      "text/plain": [
       "<Figure size 640x480 with 1 Axes>"
      ]
     },
     "metadata": {},
     "output_type": "display_data"
    }
   ],
   "source": [
    "plt.pie(temp.values, labels = temp.index, autopct = '%.2f%%', \n",
    "        startangle=90, counterclock=False)\n",
    "plt.show()"
   ]
  },
  {
   "cell_type": "markdown",
   "metadata": {
    "id": "nH8-9uLeA7GA"
   },
   "source": [
    "* pie chart 꾸미기 2\n",
    "\n",
    "    * 간격 띄우고, 그림자 넣기\n",
    "        * explode = [0.05, 0.05,0.05] : 중심으로 부터 1,2,3 을 얼마만큼 띄울지\n",
    "        * shadow = True : 그림자 추가\n",
    "\n"
   ]
  },
  {
   "cell_type": "code",
   "execution_count": 49,
   "metadata": {
    "id": "bYso7JIGA8K4"
   },
   "outputs": [
    {
     "data": {
      "image/png": "[encoded data removed]",
      "text/plain": [
       "<Figure size 640x480 with 1 Axes>"
      ]
     },
     "metadata": {},
     "output_type": "display_data"
    }
   ],
   "source": [
    "plt.pie(temp.values, labels = temp.index, autopct = '%.2f%%', \n",
    "        startangle=90, counterclock=False, \n",
    "        explode = [0.05, 0.05, 0.05], shadow=True)\n",
    "plt.show()"
   ]
  },
  {
   "cell_type": "markdown",
   "metadata": {
    "id": "Y47aKdcVBFhJ"
   },
   "source": [
    "<img src='https://raw.githubusercontent.com/jangrae/img/master/practice_01.png' width=120 align=\"left\"/>"
   ]
  },
  {
   "cell_type": "markdown",
   "metadata": {
    "id": "Bdx8CM4wBFhK"
   },
   "source": [
    "1) titanic의 Embarked에 대한 pie chart를 그리시오.\n",
    "* 소수점 1자리까지 비율(%)를 표시하시오."
   ]
  },
  {
   "cell_type": "code",
   "execution_count": 52,
   "metadata": {
    "id": "z27s2VoQBDSJ"
   },
   "outputs": [
    {
     "data": {
      "image/png": "[encoded data removed]",
      "text/plain": [
       "<Figure size 640x480 with 1 Axes>"
      ]
     },
     "metadata": {},
     "output_type": "display_data"
    }
   ],
   "source": [
    "temp = titanic[\"Embarked\"].value_counts()\n",
    "plt.pie(temp.values, labels = temp.index, autopct = \"%.1f%%\")\n",
    "plt.show()"
   ]
  },
  {
   "cell_type": "markdown",
   "metadata": {
    "id": "ncgGQuDoWlKa"
   },
   "source": [
    "# 4.복습문제"
   ]
  },
  {
   "cell_type": "markdown",
   "metadata": {
    "id": "jtOUt7kVWs9D"
   },
   "source": [
    "## (1) 환경준비\n",
    "* 라이브러리 불러오기"
   ]
  },
  {
   "cell_type": "code",
   "execution_count": 53,
   "metadata": {
    "id": "1xqiuyahWs9E"
   },
   "outputs": [],
   "source": [
    "import numpy as np\n",
    "import pandas as pd\n",
    "\n",
    "import matplotlib.pyplot as plt\n",
    "import seaborn as sns"
   ]
  },
  {
   "cell_type": "markdown",
   "metadata": {
    "id": "dslbaq8S0KFt"
   },
   "source": [
    "* 보스톤 집값 데이터를 이용하여 다음의 복습문제를 풀어 봅시다."
   ]
  },
  {
   "cell_type": "markdown",
   "metadata": {
    "id": "xMx9y0a0MBZ2"
   },
   "source": [
    "**변수설명**\n",
    "> * medv  : 1978 보스턴 주택 가격, 506개 타운의 주택 가격 중앙값 (단위 1,000 달러) <== Target\n",
    "* crim\t범죄율\n",
    "* zn\t25,000 평방피트를 초과 거주지역 비율\n",
    "* indus\t비소매상업지역 면적 비율\n",
    "* chas\t찰스강변 위치(범주 : 강변1, 아니면 0)\n",
    "* nox\t일산화질소 농도\n",
    "* rm\t주택당 방 수\n",
    "* age\t1940년 이전에 건축된 주택의 비율\n",
    "* dis\t직업센터의 거리\n",
    "* rad\t방사형 고속도로까지의 거리\n",
    "* tax\t재산세율\n",
    "* ptratio\t학생/교사 비율\n",
    "* lstat\t인구 중 하위 계층 비율\n"
   ]
  },
  {
   "cell_type": "code",
   "execution_count": 54,
   "metadata": {
    "id": "7I7tIr6X1eMy"
   },
   "outputs": [],
   "source": [
    "import pandas as pd\n",
    "import numpy as np\n",
    "import matplotlib.pyplot as plt\n",
    "import seaborn as sns"
   ]
  },
  {
   "cell_type": "code",
   "execution_count": 55,
   "metadata": {
    "id": "KpQjA_tYz-6u"
   },
   "outputs": [
    {
     "data": {
      "text/html": [
       "<div>\n",
       "<style scoped>\n",
       "    .dataframe tbody tr th:only-of-type {\n",
       "        vertical-align: middle;\n",
       "    }\n",
       "\n",
       "    .dataframe tbody tr th {\n",
       "        vertical-align: top;\n",
       "    }\n",
       "\n",
       "    .dataframe thead th {\n",
       "        text-align: right;\n",
       "    }\n",
       "</style>\n",
       "<table border=\"1\" class=\"dataframe\">\n",
       "  <thead>\n",
       "    <tr style=\"text-align: right;\">\n",
       "      <th></th>\n",
       "      <th>crim</th>\n",
       "      <th>zn</th>\n",
       "      <th>indus</th>\n",
       "      <th>chas</th>\n",
       "      <th>nox</th>\n",
       "      <th>rm</th>\n",
       "      <th>age</th>\n",
       "      <th>dis</th>\n",
       "      <th>rad</th>\n",
       "      <th>tax</th>\n",
       "      <th>ptratio</th>\n",
       "      <th>lstat</th>\n",
       "      <th>medv</th>\n",
       "    </tr>\n",
       "  </thead>\n",
       "  <tbody>\n",
       "    <tr>\n",
       "      <th>0</th>\n",
       "      <td>0.00632</td>\n",
       "      <td>18.0</td>\n",
       "      <td>2.31</td>\n",
       "      <td>0</td>\n",
       "      <td>0.538</td>\n",
       "      <td>6.575</td>\n",
       "      <td>65.2</td>\n",
       "      <td>4.0900</td>\n",
       "      <td>1</td>\n",
       "      <td>296</td>\n",
       "      <td>15.3</td>\n",
       "      <td>4.98</td>\n",
       "      <td>24.0</td>\n",
       "    </tr>\n",
       "    <tr>\n",
       "      <th>1</th>\n",
       "      <td>0.02731</td>\n",
       "      <td>0.0</td>\n",
       "      <td>7.07</td>\n",
       "      <td>0</td>\n",
       "      <td>0.469</td>\n",
       "      <td>6.421</td>\n",
       "      <td>78.9</td>\n",
       "      <td>4.9671</td>\n",
       "      <td>2</td>\n",
       "      <td>242</td>\n",
       "      <td>17.8</td>\n",
       "      <td>9.14</td>\n",
       "      <td>21.6</td>\n",
       "    </tr>\n",
       "    <tr>\n",
       "      <th>2</th>\n",
       "      <td>0.02729</td>\n",
       "      <td>0.0</td>\n",
       "      <td>7.07</td>\n",
       "      <td>0</td>\n",
       "      <td>0.469</td>\n",
       "      <td>7.185</td>\n",
       "      <td>61.1</td>\n",
       "      <td>4.9671</td>\n",
       "      <td>2</td>\n",
       "      <td>242</td>\n",
       "      <td>17.8</td>\n",
       "      <td>4.03</td>\n",
       "      <td>34.7</td>\n",
       "    </tr>\n",
       "    <tr>\n",
       "      <th>3</th>\n",
       "      <td>0.03237</td>\n",
       "      <td>0.0</td>\n",
       "      <td>2.18</td>\n",
       "      <td>0</td>\n",
       "      <td>0.458</td>\n",
       "      <td>6.998</td>\n",
       "      <td>45.8</td>\n",
       "      <td>6.0622</td>\n",
       "      <td>3</td>\n",
       "      <td>222</td>\n",
       "      <td>18.7</td>\n",
       "      <td>2.94</td>\n",
       "      <td>33.4</td>\n",
       "    </tr>\n",
       "    <tr>\n",
       "      <th>4</th>\n",
       "      <td>0.06905</td>\n",
       "      <td>0.0</td>\n",
       "      <td>2.18</td>\n",
       "      <td>0</td>\n",
       "      <td>0.458</td>\n",
       "      <td>7.147</td>\n",
       "      <td>54.2</td>\n",
       "      <td>6.0622</td>\n",
       "      <td>3</td>\n",
       "      <td>222</td>\n",
       "      <td>18.7</td>\n",
       "      <td>5.33</td>\n",
       "      <td>36.2</td>\n",
       "    </tr>\n",
       "  </tbody>\n",
       "</table>\n",
       "</div>"
      ],
      "text/plain": [
       "      crim    zn  indus  chas    nox     rm   age     dis  rad  tax  ptratio  \\\n",
       "0  0.00632  18.0   2.31     0  0.538  6.575  65.2  4.0900    1  296     15.3   \n",
       "1  0.02731   0.0   7.07     0  0.469  6.421  78.9  4.9671    2  242     17.8   \n",
       "2  0.02729   0.0   7.07     0  0.469  7.185  61.1  4.9671    2  242     17.8   \n",
       "3  0.03237   0.0   2.18     0  0.458  6.998  45.8  6.0622    3  222     18.7   \n",
       "4  0.06905   0.0   2.18     0  0.458  7.147  54.2  6.0622    3  222     18.7   \n",
       "\n",
       "   lstat  medv  \n",
       "0   4.98  24.0  \n",
       "1   9.14  21.6  \n",
       "2   4.03  34.7  \n",
       "3   2.94  33.4  \n",
       "4   5.33  36.2  "
      ]
     },
     "execution_count": 55,
     "metadata": {},
     "output_type": "execute_result"
    }
   ],
   "source": [
    "# 보스톤 집값 데이터\n",
    "boston = pd.read_csv('https://raw.githubusercontent.com/DA4BAM/dataset/master/boston.csv')\n",
    "boston.head()"
   ]
  },
  {
   "cell_type": "markdown",
   "metadata": {
    "id": "uwdjFYCiXLGH"
   },
   "source": [
    "## (2) 단변량 분석"
   ]
  },
  {
   "cell_type": "markdown",
   "metadata": {
    "id": "LWDRkvPEXTii"
   },
   "source": [
    "### 1) 숫자형 변수"
   ]
  },
  {
   "cell_type": "markdown",
   "metadata": {
    "id": "oLzR3mRtXXH6"
   },
   "source": [
    "* medv(집값)"
   ]
  },
  {
   "cell_type": "code",
   "execution_count": 56,
   "metadata": {
    "id": "sLlHyVGdWm7F"
   },
   "outputs": [
    {
     "data": {
      "text/plain": [
       "count    506.000000\n",
       "mean      22.532806\n",
       "std        9.197104\n",
       "min        5.000000\n",
       "25%       17.025000\n",
       "50%       21.200000\n",
       "75%       25.000000\n",
       "max       50.000000\n",
       "Name: medv, dtype: float64"
      ]
     },
     "execution_count": 56,
     "metadata": {},
     "output_type": "execute_result"
    }
   ],
   "source": [
    "# 기초통계량\n",
    "boston[\"medv\"].describe()"
   ]
  },
  {
   "cell_type": "code",
   "execution_count": 13,
   "metadata": {
    "id": "gbEwwafmXgqk"
   },
   "outputs": [],
   "source": [
    "def edal_n(data, var):\n",
    "    # 기초통계량\n",
    "    display(data[[var]].describe().T)\n",
    "    # 시각화\n",
    "    plt.figure(figsize = (8, 10))\n",
    "    plt.subplot(2, 1, 1)\n",
    "    sns.histplot(x = var, data = data, bins = 20, kde = True)\n",
    "\n",
    "    plt.subplot(2, 1, 2)\n",
    "    sns.boxplot(x = var, data = data)\n",
    "    plt.grid()\n",
    "    plt.show()"
   ]
  },
  {
   "cell_type": "code",
   "execution_count": 14,
   "metadata": {
    "id": "TzMqJHJGYGVk"
   },
   "outputs": [
    {
     "data": {
      "text/html": [
       "<div>\n",
       "<style scoped>\n",
       "    .dataframe tbody tr th:only-of-type {\n",
       "        vertical-align: middle;\n",
       "    }\n",
       "\n",
       "    .dataframe tbody tr th {\n",
       "        vertical-align: top;\n",
       "    }\n",
       "\n",
       "    .dataframe thead th {\n",
       "        text-align: right;\n",
       "    }\n",
       "</style>\n",
       "<table border=\"1\" class=\"dataframe\">\n",
       "  <thead>\n",
       "    <tr style=\"text-align: right;\">\n",
       "      <th></th>\n",
       "      <th>count</th>\n",
       "      <th>mean</th>\n",
       "      <th>std</th>\n",
       "      <th>min</th>\n",
       "      <th>25%</th>\n",
       "      <th>50%</th>\n",
       "      <th>75%</th>\n",
       "      <th>max</th>\n",
       "    </tr>\n",
       "  </thead>\n",
       "  <tbody>\n",
       "    <tr>\n",
       "      <th>medv</th>\n",
       "      <td>506.0</td>\n",
       "      <td>22.532806</td>\n",
       "      <td>9.197104</td>\n",
       "      <td>5.0</td>\n",
       "      <td>17.025</td>\n",
       "      <td>21.2</td>\n",
       "      <td>25.0</td>\n",
       "      <td>50.0</td>\n",
       "    </tr>\n",
       "  </tbody>\n",
       "</table>\n",
       "</div>"
      ],
      "text/plain": [
       "      count       mean       std  min     25%   50%   75%   max\n",
       "medv  506.0  22.532806  9.197104  5.0  17.025  21.2  25.0  50.0"
      ]
     },
     "metadata": {},
     "output_type": "display_data"
    },
    {
     "data": {
      "image/png": "[encoded data removed]",
      "text/plain": [
       "<Figure size 800x1000 with 2 Axes>"
      ]
     },
     "metadata": {},
     "output_type": "display_data"
    }
   ],
   "source": [
    "edal_n(boston, \"medv\")"
   ]
  },
  {
   "cell_type": "markdown",
   "metadata": {
    "id": "exRM4oDFYUH2"
   },
   "source": [
    "* crim(범죄율)"
   ]
  },
  {
   "cell_type": "code",
   "execution_count": null,
   "metadata": {
    "id": "Bv5VFiCQcrnb"
   },
   "outputs": [],
   "source": []
  },
  {
   "cell_type": "code",
   "execution_count": 57,
   "metadata": {
    "id": "arnfpgSOcrnd"
   },
   "outputs": [
    {
     "data": {
      "text/plain": [
       "count    506.000000\n",
       "mean       3.613524\n",
       "std        8.601545\n",
       "min        0.006320\n",
       "25%        0.082045\n",
       "50%        0.256510\n",
       "75%        3.677083\n",
       "max       88.976200\n",
       "Name: crim, dtype: float64"
      ]
     },
     "execution_count": 57,
     "metadata": {},
     "output_type": "execute_result"
    }
   ],
   "source": [
    "# 기초통계량\n",
    "boston[\"crim\"].describe()"
   ]
  },
  {
   "cell_type": "code",
   "execution_count": 64,
   "metadata": {
    "id": "y8PhAy5lcrnd"
   },
   "outputs": [
    {
     "data": {
      "image/png": "[encoded data removed]",
      "text/plain": [
       "<Figure size 800x600 with 2 Axes>"
      ]
     },
     "metadata": {},
     "output_type": "display_data"
    }
   ],
   "source": [
    "# 시각화\n",
    "plt.figure(figsize = (8, 6))\n",
    "plt.subplot(2, 1, 1)\n",
    "sns.histplot(x = \"crim\", data = boston, kde = True)\n",
    "plt.grid()\n",
    "\n",
    "plt.subplot(2, 1, 2)\n",
    "sns.boxplot(x = boston[\"crim\"])\n",
    "plt.tight_layout()\n",
    "plt.grid()\n",
    "plt.show()"
   ]
  },
  {
   "cell_type": "code",
   "execution_count": null,
   "metadata": {
    "id": "oS6qTAQnYYXc"
   },
   "outputs": [],
   "source": []
  },
  {
   "cell_type": "markdown",
   "metadata": {
    "id": "OxsJ6TbnYagN"
   },
   "source": [
    "* lstat(하위계층 비율)"
   ]
  },
  {
   "cell_type": "code",
   "execution_count": null,
   "metadata": {
    "id": "VLrQXihdcsy5"
   },
   "outputs": [],
   "source": []
  },
  {
   "cell_type": "code",
   "execution_count": null,
   "metadata": {
    "id": "Z5p3-LgKcsy6"
   },
   "outputs": [],
   "source": [
    "# 기초통계량\n"
   ]
  },
  {
   "cell_type": "code",
   "execution_count": 65,
   "metadata": {
    "id": "MHQ3kl3Rcsy6"
   },
   "outputs": [
    {
     "data": {
      "image/png": "[encoded data removed]",
      "text/plain": [
       "<Figure size 800x600 with 2 Axes>"
      ]
     },
     "metadata": {},
     "output_type": "display_data"
    }
   ],
   "source": [
    "# 시각화\n",
    "# 시각화\n",
    "plt.figure(figsize = (8, 6))\n",
    "plt.subplot(2, 1, 1)\n",
    "sns.histplot(x = \"lstat\", data = boston, kde = True)\n",
    "plt.grid()\n",
    "\n",
    "plt.subplot(2, 1, 2)\n",
    "sns.boxplot(x = boston[\"lstat\"])\n",
    "plt.tight_layout()\n",
    "plt.grid()\n",
    "plt.show()"
   ]
  },
  {
   "cell_type": "code",
   "execution_count": null,
   "metadata": {
    "id": "JphPQ1aPYfL0"
   },
   "outputs": [],
   "source": []
  },
  {
   "cell_type": "markdown",
   "metadata": {
    "id": "LPlJUaU4YgBb"
   },
   "source": [
    "* ptratio(교사1명당 학생수)"
   ]
  },
  {
   "cell_type": "code",
   "execution_count": null,
   "metadata": {
    "id": "01vINGSgct-C"
   },
   "outputs": [],
   "source": []
  },
  {
   "cell_type": "code",
   "execution_count": null,
   "metadata": {
    "id": "7rQA22wwct-C"
   },
   "outputs": [],
   "source": [
    "# 기초통계량\n"
   ]
  },
  {
   "cell_type": "code",
   "execution_count": 66,
   "metadata": {
    "id": "GBODfpoEct-D"
   },
   "outputs": [
    {
     "data": {
      "image/png": "[encoded data removed]",
      "text/plain": [
       "<Figure size 800x600 with 2 Axes>"
      ]
     },
     "metadata": {},
     "output_type": "display_data"
    }
   ],
   "source": [
    "# 시각화\n",
    "# 시각화\n",
    "plt.figure(figsize = (8, 6))\n",
    "plt.subplot(2, 1, 1)\n",
    "sns.histplot(x = \"ptratio\", data = boston, kde = True)\n",
    "plt.grid()\n",
    "\n",
    "plt.subplot(2, 1, 2)\n",
    "sns.boxplot(x = boston[\"ptratio\"])\n",
    "plt.tight_layout()\n",
    "plt.grid()\n",
    "plt.show()"
   ]
  },
  {
   "cell_type": "code",
   "execution_count": null,
   "metadata": {
    "id": "iKdO1rF1YmFf"
   },
   "outputs": [],
   "source": []
  },
  {
   "cell_type": "markdown",
   "metadata": {
    "id": "_2SanyOLY2Xq"
   },
   "source": [
    "### 2) 범주형 변수"
   ]
  },
  {
   "cell_type": "markdown",
   "metadata": {
    "id": "u21l7uHtY4do"
   },
   "source": [
    "* chas(찰스강변 여부)"
   ]
  },
  {
   "cell_type": "code",
   "execution_count": 68,
   "metadata": {
    "id": "7By5XvxvcvGs"
   },
   "outputs": [
    {
     "data": {
      "text/plain": [
       "0    471\n",
       "1     35\n",
       "Name: chas, dtype: int64"
      ]
     },
     "execution_count": 68,
     "metadata": {},
     "output_type": "execute_result"
    }
   ],
   "source": [
    "var = \"chas\"\n",
    "boston[\"chas\"].value_counts()"
   ]
  },
  {
   "cell_type": "code",
   "execution_count": 69,
   "metadata": {
    "id": "2Nfvky2ocvGt"
   },
   "outputs": [
    {
     "name": "stdout",
     "output_type": "stream",
     "text": [
      "0    471\n",
      "1     35\n",
      "Name: chas, dtype: int64\n",
      "0    0.93083\n",
      "1    0.06917\n",
      "Name: chas, dtype: float64\n"
     ]
    }
   ],
   "source": [
    "# 기초통계량\n",
    "print(boston[var].value_counts())\n",
    "print(boston[var].value_counts() / boston.shape[0])"
   ]
  },
  {
   "cell_type": "code",
   "execution_count": 70,
   "metadata": {
    "id": "4xn_wEW4cvGt"
   },
   "outputs": [
    {
     "data": {
      "image/png": "[encoded data removed]",
      "text/plain": [
       "<Figure size 640x480 with 1 Axes>"
      ]
     },
     "metadata": {},
     "output_type": "display_data"
    }
   ],
   "source": [
    "# 시각화\n",
    "sns.countplot(y = var, data = boston)\n",
    "plt.show()"
   ]
  },
  {
   "cell_type": "code",
   "execution_count": null,
   "metadata": {
    "id": "mvVbZilMZSrj"
   },
   "outputs": [],
   "source": []
  }
 ],
 "metadata": {
  "colab": {
   "provenance": [],
   "toc_visible": true
  },
  "kernelspec": {
   "display_name": "Python 3 (ipykernel)",
   "language": "python",
   "name": "python3"
  },
  "language_info": {
   "codemirror_mode": {
    "name": "ipython",
    "version": 3
   },
   "file_extension": ".py",
   "mimetype": "text/x-python",
   "name": "python",
   "nbconvert_exporter": "python",
   "pygments_lexer": "ipython3",
   "version": "3.9.13"
  }
 },
 "nbformat": 4,
 "nbformat_minor": 4
}
